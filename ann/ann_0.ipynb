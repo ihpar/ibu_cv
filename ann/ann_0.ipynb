{
 "cells": [
  {
   "cell_type": "code",
   "execution_count": null,
   "metadata": {},
   "outputs": [],
   "source": [
    "import numpy as np\n",
    "from tensorflow.keras import Sequential\n",
    "from tensorflow.keras.layers import Dense, Activation\n",
    "from tensorflow.keras.optimizers import Adam\n",
    "from sklearn.model_selection import train_test_split\n",
    "import matplotlib.pyplot as plt"
   ]
  },
  {
   "cell_type": "markdown",
   "metadata": {},
   "source": [
    "## YSA ile lineer regresyon\n",
    "1 nöron'a toplama işlemini öğretebilir miyiz? "
   ]
  },
  {
   "cell_type": "code",
   "execution_count": null,
   "metadata": {},
   "outputs": [],
   "source": [
    "np.random.seed(0)\n",
    "\n",
    "X = np.random.randint(0, 500, (10000, 2))\n",
    "y = X[:,0] + X[:,1]\n",
    "\n",
    "print(\"İlk 5 input:\")\n",
    "print(X[:5])\n",
    "\n",
    "print(\"İlk 5 output:\")\n",
    "print(y[:5])\n",
    "\n",
    "X_train, X_test, y_train, y_test = train_test_split(X, y, test_size=0.2, random_state=42)"
   ]
  },
  {
   "cell_type": "code",
   "execution_count": null,
   "metadata": {},
   "outputs": [],
   "source": [
    "model_0 = Sequential()\n",
    "model_0.add(Dense(1, input_shape=(2,)))\n",
    "model_0.add(Activation(\"linear\"))\n",
    "\n",
    "model_0.compile(optimizer=Adam(learning_rate=0.01), loss=\"mean_squared_error\")"
   ]
  },
  {
   "cell_type": "code",
   "execution_count": null,
   "metadata": {},
   "outputs": [],
   "source": [
    "history = model_0.fit(X_train, y_train, validation_data=(X_test, y_test), batch_size=64, epochs=10)"
   ]
  },
  {
   "cell_type": "code",
   "execution_count": null,
   "metadata": {},
   "outputs": [],
   "source": [
    "plt.figure(figsize=(10, 8))\n",
    "plt.plot(history.history['loss'])\n",
    "plt.plot(history.history['val_loss'])\n",
    "plt.title('Lineer Model Loss')\n",
    "plt.ylabel('loss')\n",
    "plt.xlabel('epoch')\n",
    "plt.legend(['train', 'test'], loc='upper left')\n",
    "plt.show()"
   ]
  },
  {
   "cell_type": "code",
   "execution_count": null,
   "metadata": {},
   "outputs": [],
   "source": [
    "model_0.predict([[55, 70]])"
   ]
  },
  {
   "cell_type": "code",
   "execution_count": null,
   "metadata": {},
   "outputs": [],
   "source": [
    "model_0.predict([[10, 250], [0, 0], [15000, 115000]])"
   ]
  },
  {
   "cell_type": "markdown",
   "metadata": {},
   "source": [
    "## YSA ile lojistik regresyon\n",
    "1 nöron'a sınıflandırmayı öğretebilir miyiz? "
   ]
  },
  {
   "cell_type": "code",
   "execution_count": null,
   "metadata": {},
   "outputs": [],
   "source": [
    "y_loj = np.zeros(y.shape)"
   ]
  },
  {
   "cell_type": "code",
   "execution_count": null,
   "metadata": {},
   "outputs": [],
   "source": [
    "y_loj[y>500] = 1"
   ]
  },
  {
   "cell_type": "code",
   "execution_count": null,
   "metadata": {},
   "outputs": [],
   "source": [
    "print(y[:10])\n",
    "print(y_loj[:10])"
   ]
  },
  {
   "cell_type": "code",
   "execution_count": null,
   "metadata": {},
   "outputs": [],
   "source": [
    "X_train, X_test, y_train, y_test = train_test_split(X, y_loj, test_size=0.2, random_state=42)"
   ]
  },
  {
   "cell_type": "code",
   "execution_count": null,
   "metadata": {},
   "outputs": [],
   "source": [
    "model_1 = Sequential()\n",
    "model_1.add(Dense(1, input_shape=(2,)))\n",
    "model_1.add(Activation(\"sigmoid\"))\n",
    "\n",
    "model_1.compile(optimizer=Adam(learning_rate=0.01), loss=\"binary_crossentropy\", metrics=[\"accuracy\"])"
   ]
  },
  {
   "cell_type": "code",
   "execution_count": null,
   "metadata": {},
   "outputs": [],
   "source": [
    "history = model_1.fit(X_train, y_train, validation_data=(X_test, y_test), batch_size=64, epochs=10)"
   ]
  },
  {
   "cell_type": "code",
   "execution_count": null,
   "metadata": {},
   "outputs": [],
   "source": [
    "plt.figure(figsize=(10, 8))\n",
    "plt.plot(history.history['loss'])\n",
    "plt.plot(history.history['val_loss'])\n",
    "plt.title('Lojistik Model Loss')\n",
    "plt.ylabel('loss')\n",
    "plt.xlabel('epoch')\n",
    "plt.legend(['train', 'test'], loc='upper left')\n",
    "plt.show()"
   ]
  },
  {
   "cell_type": "code",
   "execution_count": null,
   "metadata": {},
   "outputs": [],
   "source": [
    "model_1.predict([[0, 0], [1000, 1000], [100, 150], [500, 400]])"
   ]
  },
  {
   "cell_type": "markdown",
   "metadata": {},
   "source": [
    "## YSA ile resim sınıflandırma\n",
    "### 1) 2 sınıf - 1 nöron"
   ]
  },
  {
   "cell_type": "markdown",
   "metadata": {},
   "source": [
    "!pip install idx2numpy\n",
    "\n",
    "!wget https://github.com/ihpar/ibu_cv/raw/main/mnist/m_nist.zip\n",
    "\n",
    "!unzip /content/m_nist.zip -d m_nist"
   ]
  },
  {
   "cell_type": "code",
   "execution_count": null,
   "metadata": {},
   "outputs": [],
   "source": [
    "import idx2numpy"
   ]
  },
  {
   "cell_type": "code",
   "execution_count": null,
   "metadata": {},
   "outputs": [],
   "source": [
    "MNIST_DIR = \"/content/m_nist/\"\n",
    "# MNIST_DIR = \"../mnist/\""
   ]
  },
  {
   "cell_type": "code",
   "execution_count": null,
   "metadata": {},
   "outputs": [],
   "source": [
    "train_arr = idx2numpy.convert_from_file(MNIST_DIR + \"train-images-idx3-ubyte\")\n",
    "train_labels = idx2numpy.convert_from_file(MNIST_DIR + \"train-labels-idx1-ubyte\")"
   ]
  },
  {
   "cell_type": "code",
   "execution_count": null,
   "metadata": {},
   "outputs": [],
   "source": [
    "print(train_arr.shape, train_labels.shape)"
   ]
  },
  {
   "cell_type": "code",
   "execution_count": null,
   "metadata": {},
   "outputs": [],
   "source": [
    "X_train = train_arr.reshape(60000, -1)\n",
    "X_train.shape"
   ]
  },
  {
   "cell_type": "code",
   "execution_count": null,
   "metadata": {},
   "outputs": [],
   "source": [
    "plt.imshow(X_train[0].reshape(28, 28), cmap=\"gray\")\n",
    "plt.show()"
   ]
  },
  {
   "cell_type": "code",
   "execution_count": null,
   "metadata": {},
   "outputs": [],
   "source": [
    "y_train = np.copy(train_labels)\n",
    "X_3 = X_train[y_train == 3]\n",
    "X_7 = X_train[y_train == 7]\n",
    "X_train_subset = np.append(X_3, X_7, axis=0)"
   ]
  },
  {
   "cell_type": "code",
   "execution_count": null,
   "metadata": {},
   "outputs": [],
   "source": [
    "y_3 = np.zeros(X_3.shape[0])\n",
    "y_7 = np.ones(X_7.shape[0])\n",
    "y_train_subset = np.append(y_3, y_7)"
   ]
  },
  {
   "cell_type": "code",
   "execution_count": null,
   "metadata": {},
   "outputs": [],
   "source": [
    "ds_check_indexes = [0, 1000, 5000, 5200, 6200, 11000, 12300, 12301, 12395]\n",
    "\n",
    "plt.figure(figsize=(9, 9))\n",
    "\n",
    "for i, index in enumerate(ds_check_indexes):\n",
    "    plt.subplot(3, 3, i+1)\n",
    "    plt.title(str(y_train_subset[index]))\n",
    "    plt.imshow(X_train_subset[index].reshape(28, 28), cmap=\"gray\")\n",
    "\n",
    "plt.tight_layout()\n",
    "plt.show()"
   ]
  },
  {
   "cell_type": "code",
   "execution_count": null,
   "metadata": {},
   "outputs": [],
   "source": [
    "X_train, X_test, y_train, y_test = train_test_split(X_train_subset, y_train_subset, test_size=0.2, random_state=42)"
   ]
  },
  {
   "cell_type": "code",
   "execution_count": null,
   "metadata": {},
   "outputs": [],
   "source": [
    "model_2 = Sequential()\n",
    "model_2.add(Dense(1, input_shape=(784,)))\n",
    "model_2.add(Activation(\"sigmoid\"))\n",
    "\n",
    "model_2.compile(optimizer=Adam(learning_rate=0.001), loss=\"binary_crossentropy\", metrics=[\"accuracy\"])"
   ]
  },
  {
   "cell_type": "code",
   "execution_count": null,
   "metadata": {},
   "outputs": [],
   "source": [
    "history = model_2.fit(X_train, y_train, validation_data=(X_test, y_test), batch_size=64, epochs=5)"
   ]
  },
  {
   "cell_type": "code",
   "execution_count": null,
   "metadata": {},
   "outputs": [],
   "source": [
    "plt.figure(figsize=(10, 8))\n",
    "plt.plot(history.history['loss'])\n",
    "plt.plot(history.history['val_loss'])\n",
    "plt.title('Lojistik Model Loss')\n",
    "plt.ylabel('loss')\n",
    "plt.xlabel('epoch')\n",
    "plt.legend(['train', 'test'], loc='upper left')\n",
    "plt.show()"
   ]
  },
  {
   "cell_type": "code",
   "execution_count": null,
   "metadata": {},
   "outputs": [],
   "source": [
    "ds_check_indexes = [0, 100, 200, 500, 900, 1290, 1500, 1999, 2479]\n",
    "\n",
    "plt.figure(figsize=(9, 9))\n",
    "\n",
    "for i, index in enumerate(ds_check_indexes):\n",
    "    plt.subplot(3, 3, i+1)\n",
    "    prediction = model_2.predict([X_test[index].reshape(-1, 784)])\n",
    "    plt.title(f\"Gercek: {str(y_test[index])}, Tahmin: {str(prediction[0])}\")\n",
    "    plt.imshow(X_test[index].reshape(28, 28), cmap=\"gray\")\n",
    "\n",
    "plt.tight_layout()\n",
    "plt.show()"
   ]
  },
  {
   "cell_type": "markdown",
   "metadata": {},
   "source": [
    "## YSA ile resim sınıflandırma\n",
    "### 1) 4 sınıf - 4 nöron"
   ]
  },
  {
   "cell_type": "code",
   "execution_count": null,
   "metadata": {},
   "outputs": [],
   "source": [
    "X_train = train_arr.reshape(60000, -1)\n",
    "y_train = np.copy(train_labels)\n",
    "\n",
    "X_1 = X_train[y_train == 1]\n",
    "count_1 = len(X_1)\n",
    "\n",
    "X_2 = X_train[y_train == 2]\n",
    "count_2 = len(X_2)\n",
    "\n",
    "X_3 = X_train[y_train == 3]\n",
    "count_3 = len(X_3)\n",
    "\n",
    "X_4 = X_train[y_train == 4]\n",
    "count_4 = len(X_4)\n",
    "\n",
    "X = np.concatenate((X_1, X_2, X_3, X_4), axis=0)\n",
    "\n",
    "print(count_1, count_2, count_3, count_4)\n",
    "print(X.shape)"
   ]
  },
  {
   "cell_type": "code",
   "execution_count": null,
   "metadata": {},
   "outputs": [],
   "source": [
    "y = np.zeros((X.shape[0], 4))\n",
    "print(y.shape)\n",
    "print(y[0], y[6000], y[12000], y[24000])"
   ]
  },
  {
   "cell_type": "code",
   "execution_count": null,
   "metadata": {},
   "outputs": [],
   "source": [
    "\"\"\"\n",
    "One hot encoding:\n",
    "\n",
    "1 => [1, 0, 0, 0]\n",
    "2 => [0, 1, 0, 0]\n",
    "3 => [0, 0, 1, 0]\n",
    "4 => [0, 0, 0, 1]\n",
    "\n",
    "y = [\n",
    "  [1, 0, 0, 0],\n",
    "  [1, 0, 0, 0],\n",
    "  [1, 0, 0, 0],\n",
    "  ...\n",
    "  [0, 1, 0, 0],\n",
    "  [0, 1, 0, 0],\n",
    "  [0, 1, 0, 0],\n",
    "  ...\n",
    "  [0, 0, 1, 0],\n",
    "  [0, 0, 1, 0],\n",
    "  [0, 0, 1, 0],\n",
    "  ...\n",
    "  [0, 0, 0, 1],\n",
    "  [0, 0, 0, 1],\n",
    "  [0, 0, 0, 1]\n",
    "]\n",
    "\"\"\"\n",
    "\n",
    "y[:count_1, :] = [1,0,0,0]\n",
    "y[count_1:count_1+count_2, :] = [0,1,0,0]\n",
    "y[count_1+count_2:count_1+count_2+count_3, :] = [0,0,1,0]\n",
    "y[count_1+count_2+count_3:, :] = [0,0,0,1]"
   ]
  },
  {
   "cell_type": "code",
   "execution_count": null,
   "metadata": {},
   "outputs": [],
   "source": [
    "print(y[0], y[7000], y[15000], y[24000])"
   ]
  },
  {
   "cell_type": "code",
   "execution_count": null,
   "metadata": {},
   "outputs": [],
   "source": [
    "X_train, X_test, y_train, y_test = train_test_split(X, y, test_size=0.2, random_state=42)"
   ]
  },
  {
   "cell_type": "code",
   "execution_count": null,
   "metadata": {},
   "outputs": [],
   "source": [
    "model_3 = Sequential()\n",
    "model_3.add(Dense(4, input_shape=(784,)))\n",
    "model_3.add(Activation(\"softmax\"))\n",
    "\n",
    "model_3.compile(optimizer=Adam(learning_rate=0.001), loss=\"categorical_crossentropy\", metrics=[\"accuracy\"])"
   ]
  },
  {
   "cell_type": "code",
   "execution_count": null,
   "metadata": {},
   "outputs": [],
   "source": [
    "history = model_3.fit(X_train, y_train, validation_data=(X_test, y_test), batch_size=64, epochs=5)"
   ]
  },
  {
   "cell_type": "code",
   "execution_count": null,
   "metadata": {},
   "outputs": [],
   "source": [
    "plt.figure(figsize=(10, 8))\n",
    "plt.plot(history.history['loss'])\n",
    "plt.plot(history.history['val_loss'])\n",
    "plt.title('Lojistik Model Loss')\n",
    "plt.ylabel('loss')\n",
    "plt.xlabel('epoch')\n",
    "plt.legend(['train', 'test'], loc='upper left')\n",
    "plt.show()"
   ]
  },
  {
   "cell_type": "code",
   "execution_count": null,
   "metadata": {},
   "outputs": [],
   "source": [
    "ds_check_indexes = [0, 200, 400, 900, 1800, 2281, 3400, 4100, 4900]\n",
    "\n",
    "plt.figure(figsize=(9, 9))\n",
    "\n",
    "for i, index in enumerate(ds_check_indexes):\n",
    "    plt.subplot(3, 3, i+1)\n",
    "    prediction = model_3.predict([X_test[index].reshape(-1, 784)])\n",
    "    gercek = np.argmax(y_test[index]) + 1\n",
    "    tahmin = np.argmax(prediction) + 1\n",
    "    plt.title(f\"Gercek: {gercek}, Tahmin: {tahmin}\")\n",
    "    plt.imshow(X_test[index].reshape(28, 28), cmap=\"gray\")\n",
    "\n",
    "plt.tight_layout()\n",
    "plt.show()"
   ]
  },
  {
   "cell_type": "code",
   "execution_count": null,
   "metadata": {},
   "outputs": [],
   "source": []
  }
 ],
 "metadata": {
  "interpreter": {
   "hash": "b25c72524e0bc61a78b3d6a2df84de3adaea47dfccaeebc487f09611983c18d9"
  },
  "kernelspec": {
   "display_name": "Python 3.8.10 ('mlp')",
   "language": "python",
   "name": "python3"
  },
  "language_info": {
   "codemirror_mode": {
    "name": "ipython",
    "version": 3
   },
   "file_extension": ".py",
   "mimetype": "text/x-python",
   "name": "python",
   "nbconvert_exporter": "python",
   "pygments_lexer": "ipython3",
   "version": "3.8.10"
  },
  "orig_nbformat": 4
 },
 "nbformat": 4,
 "nbformat_minor": 2
}
