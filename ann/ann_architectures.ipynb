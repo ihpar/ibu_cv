{
 "cells": [
  {
   "cell_type": "code",
   "execution_count": null,
   "metadata": {},
   "outputs": [],
   "source": [
    "import numpy as np\n",
    "import matplotlib.pyplot as plt\n",
    "from sklearn.model_selection import train_test_split\n",
    "import pickle\n",
    "\n",
    "from tensorflow.keras.models import Sequential\n",
    "from tensorflow.keras.layers import Dense, Activation\n",
    "from tensorflow.keras.optimizers import Adam"
   ]
  },
  {
   "cell_type": "code",
   "execution_count": null,
   "metadata": {},
   "outputs": [],
   "source": [
    "# !wget https://github.com/ihpar/ibu_cv/raw/main/cif_10/dataset.zip\n",
    "# !unzip /content/dataset.zip -d cif_10"
   ]
  },
  {
   "cell_type": "code",
   "execution_count": null,
   "metadata": {},
   "outputs": [],
   "source": [
    "# google colab klasör yolu\n",
    "CIF_10_KLASORU = \"/content/cif_10/\"\n",
    "\n",
    "# lokal klasör yolu\n",
    "# CIF_10_KLASORU = \"../cif_10/\""
   ]
  },
  {
   "cell_type": "code",
   "execution_count": null,
   "metadata": {},
   "outputs": [],
   "source": [
    "def dosya_oku(dosya_yolu):\n",
    "    with open(dosya_yolu, \"rb\") as dosya:\n",
    "        return pickle.load(dosya, encoding=\"bytes\")"
   ]
  },
  {
   "cell_type": "code",
   "execution_count": null,
   "metadata": {},
   "outputs": [],
   "source": [
    "data_batch_1 = dosya_oku(CIF_10_KLASORU + \"data_batch_1\")\n",
    "batches_meta = dosya_oku(CIF_10_KLASORU + \"batches.meta\")\n",
    "\n",
    "print(data_batch_1.keys())\n",
    "print(batches_meta.keys())"
   ]
  },
  {
   "cell_type": "code",
   "execution_count": null,
   "metadata": {},
   "outputs": [],
   "source": [
    "tum_resimler = data_batch_1[b\"data\"]\n",
    "print(tum_resimler.shape)\n",
    "\n",
    "ilk_resim = tum_resimler[0]\n",
    "print(ilk_resim.shape)"
   ]
  },
  {
   "cell_type": "code",
   "execution_count": null,
   "metadata": {},
   "outputs": [],
   "source": [
    "def resmi_donustur(resim):\n",
    "    resim = resim.reshape(3, 32, 32)\n",
    "    resim = resim.transpose(1, 2, 0)\n",
    "    return resim\n",
    "\n",
    "def resmin_sinif_ismi(resim_index):\n",
    "    sinif_sayisi = data_batch_1[b\"labels\"][resim_index]\n",
    "    sinif_ismi = batches_meta[b\"label_names\"][sinif_sayisi]\n",
    "    return sinif_ismi.decode(\"ascii\")"
   ]
  },
  {
   "cell_type": "code",
   "execution_count": null,
   "metadata": {},
   "outputs": [],
   "source": [
    "plt.figure(figsize=(8, 8))\n",
    "\n",
    "for i in range(16):\n",
    "    plt.subplot(4, 4, i+1)\n",
    "    plt.title(resmin_sinif_ismi(i))\n",
    "    plt.imshow(resmi_donustur(tum_resimler[i]))\n",
    "\n",
    "plt.tight_layout()\n",
    "plt.show()"
   ]
  },
  {
   "cell_type": "markdown",
   "metadata": {},
   "source": [
    "### Problem \n",
    "Kedi ve gemi resimlerini ayırt edebilen bir YSA eğitmek.\n",
    "\n",
    "### İlk aşama\n",
    "Veri setini hazırlayacağız.\n",
    "* Veri setinden sadece kedi ve gemi resimlerini alacağız.\n",
    "* Kedilere 0; gemilere 1 etiketi takacağız.\n",
    "\n",
    "### İkinci aşama\n",
    "Çeşitli NN mimarileri oluşturup birbirleri ile karşılaştıracağız.\n",
    "* Farklı katman sayıları\n",
    "* Farklı nöron sayıları\n",
    "* Farklı aktivasyon fonksiyonları"
   ]
  },
  {
   "cell_type": "markdown",
   "metadata": {},
   "source": [
    "## Veri Seti Hazırlama"
   ]
  },
  {
   "cell_type": "code",
   "execution_count": null,
   "metadata": {},
   "outputs": [],
   "source": [
    "tum_siniflar = np.array(data_batch_1[b\"labels\"])\n",
    "\n",
    "print(tum_siniflar[:10])"
   ]
  },
  {
   "cell_type": "code",
   "execution_count": null,
   "metadata": {},
   "outputs": [],
   "source": [
    "batches_meta[b\"label_names\"]"
   ]
  },
  {
   "cell_type": "markdown",
   "metadata": {},
   "source": [
    "\n",
    "* kedinin label indeksi: 3\n",
    "* gemini label indeksi: 8"
   ]
  },
  {
   "cell_type": "code",
   "execution_count": null,
   "metadata": {},
   "outputs": [],
   "source": [
    "kediler = tum_resimler[tum_siniflar==3] / 255.0\n",
    "gemiler = tum_resimler[tum_siniflar==8] / 255.0"
   ]
  },
  {
   "cell_type": "code",
   "execution_count": null,
   "metadata": {},
   "outputs": [],
   "source": [
    "print(kediler.shape)\n",
    "print(gemiler.shape)"
   ]
  },
  {
   "cell_type": "code",
   "execution_count": null,
   "metadata": {},
   "outputs": [],
   "source": [
    "plt.figure(figsize=(8, 8))\n",
    "\n",
    "for i in range(16):\n",
    "    plt.subplot(4, 4, i+1)\n",
    "    plt.imshow(resmi_donustur(kediler[i]))\n",
    "\n",
    "plt.tight_layout()\n",
    "plt.show()"
   ]
  },
  {
   "cell_type": "code",
   "execution_count": null,
   "metadata": {},
   "outputs": [],
   "source": [
    "plt.figure(figsize=(8, 8))\n",
    "\n",
    "for i in range(16):\n",
    "    plt.subplot(4, 4, i+1)\n",
    "    plt.imshow(resmi_donustur(gemiler[i]))\n",
    "\n",
    "plt.tight_layout()\n",
    "plt.show()"
   ]
  },
  {
   "cell_type": "code",
   "execution_count": null,
   "metadata": {},
   "outputs": [],
   "source": [
    "kedi_sayisi = kediler.shape[0]\n",
    "gemi_sayisi = gemiler.shape[0]\n",
    "print(kedi_sayisi, gemi_sayisi)"
   ]
  },
  {
   "cell_type": "code",
   "execution_count": null,
   "metadata": {},
   "outputs": [],
   "source": [
    "y_kedi = np.zeros(kedi_sayisi)\n",
    "y_gemi = np.ones(gemi_sayisi)\n",
    "print(y_kedi.shape, y_gemi.shape)"
   ]
  },
  {
   "cell_type": "code",
   "execution_count": null,
   "metadata": {},
   "outputs": [],
   "source": [
    "X = np.concatenate((kediler, gemiler), axis=0)\n",
    "print(X.shape)\n",
    "\n",
    "y = np.concatenate((y_kedi, y_gemi), axis=0)\n",
    "print(y.shape)"
   ]
  },
  {
   "cell_type": "code",
   "execution_count": null,
   "metadata": {},
   "outputs": [],
   "source": [
    "X_train, X_rest, y_train, y_rest = train_test_split(X, y, test_size=0.2, random_state=42)\n",
    "X_val, X_test, y_val, y_test = train_test_split(X_rest, y_rest, test_size=0.5, random_state=42)"
   ]
  },
  {
   "cell_type": "code",
   "execution_count": null,
   "metadata": {},
   "outputs": [],
   "source": [
    "plt.figure(figsize=(8, 8))\n",
    "\n",
    "for i in range(16):\n",
    "    plt.subplot(4, 4, i+1)\n",
    "    plt.title(str(y_train[i]))\n",
    "    plt.imshow(resmi_donustur(X_train[i]))\n",
    "\n",
    "plt.tight_layout()\n",
    "plt.show()"
   ]
  },
  {
   "cell_type": "markdown",
   "metadata": {},
   "source": [
    "## NN Mimarileri ve Testler"
   ]
  },
  {
   "cell_type": "markdown",
   "metadata": {},
   "source": [
    "### Model 0: Tek katman, tek nöron, aktivasyon sigmoid"
   ]
  },
  {
   "cell_type": "code",
   "execution_count": null,
   "metadata": {},
   "outputs": [],
   "source": [
    "model_0 = Sequential()\n",
    "model_0.add(Dense(1, input_shape=(3072,)))\n",
    "model_0.add(Activation(\"sigmoid\"))\n",
    "\n",
    "model_0.compile(optimizer=Adam(learning_rate=0.01), loss=\"binary_crossentropy\", metrics=[\"accuracy\"])\n",
    "model_0.summary()"
   ]
  },
  {
   "cell_type": "code",
   "execution_count": null,
   "metadata": {},
   "outputs": [],
   "source": [
    "history = model_0.fit(X_train, y_train, validation_data=(X_val, y_val), batch_size=32, epochs=20)"
   ]
  },
  {
   "cell_type": "code",
   "execution_count": null,
   "metadata": {},
   "outputs": [],
   "source": [
    "print(\"Model 0 degerlendirmesi:\")\n",
    "model_0.evaluate(X_test, y_test)"
   ]
  },
  {
   "cell_type": "code",
   "execution_count": null,
   "metadata": {},
   "outputs": [],
   "source": [
    "def plot_model_history(history): \n",
    "    plt.figure(figsize=(10, 8))\n",
    "    plt.plot(history.history['loss'])\n",
    "    plt.plot(history.history['val_loss'])\n",
    "    plt.title('Model 0 Loss')\n",
    "    plt.ylabel('loss')\n",
    "    plt.xlabel('epoch')\n",
    "    plt.legend(['train', 'validation'], loc='upper right')\n",
    "    plt.show()"
   ]
  },
  {
   "cell_type": "code",
   "execution_count": null,
   "metadata": {},
   "outputs": [],
   "source": [
    "plot_model_history(history)"
   ]
  },
  {
   "cell_type": "code",
   "execution_count": null,
   "metadata": {},
   "outputs": [],
   "source": [
    "def plot_model_tahminleri(model, X_test, y_test):\n",
    "    plt.figure(figsize=(9, 9))\n",
    "\n",
    "    for i in range(9):\n",
    "        plt.subplot(3, 3, i+1)\n",
    "        prediction = model.predict([X_test[i].reshape(-1, 3072)])\n",
    "        prediction = np.round(prediction[0][0], 2)\n",
    "        plt.title(\"Gercek:\" + str(y_test[i]) + \", tahmin:\" + str(prediction))\n",
    "        plt.imshow(resmi_donustur(X_test[i]))\n",
    "\n",
    "    plt.tight_layout()\n",
    "    plt.show()"
   ]
  },
  {
   "cell_type": "code",
   "execution_count": null,
   "metadata": {},
   "outputs": [],
   "source": [
    "plot_model_tahminleri(model_0, X_test, y_test)"
   ]
  },
  {
   "cell_type": "markdown",
   "metadata": {},
   "source": [
    "### Model 1: İlk katman 32 nöron, çıkış 1 nöron, aktivasyon sigmoid"
   ]
  },
  {
   "cell_type": "code",
   "execution_count": null,
   "metadata": {},
   "outputs": [],
   "source": [
    "model_1 = Sequential()\n",
    "model_1.add(Dense(32, activation=\"linear\", input_shape=(3072,)))\n",
    "model_1.add((Dense(1, activation=\"sigmoid\")))\n",
    "\n",
    "model_1.compile(optimizer=Adam(learning_rate=0.01), loss=\"binary_crossentropy\", metrics=[\"accuracy\"])\n",
    "model_1.summary()"
   ]
  },
  {
   "cell_type": "code",
   "execution_count": null,
   "metadata": {},
   "outputs": [],
   "source": [
    "history_1 = model_1.fit(X_train, y_train, validation_data=(X_val, y_val), batch_size=32, epochs=20)\n",
    "plot_model_history(history_1)\n",
    "\n",
    "print(\"Model 1 degerlendirmesi:\")\n",
    "model_1.evaluate(X_test, y_test)\n",
    "\n",
    "plot_model_tahminleri(model_1, X_test, y_test)"
   ]
  },
  {
   "cell_type": "markdown",
   "metadata": {},
   "source": [
    "### Model 2: İlk katman 32 nöron - aktivaston relu, çıkış 1 nöron, aktivasyon sigmoid"
   ]
  },
  {
   "cell_type": "code",
   "execution_count": null,
   "metadata": {},
   "outputs": [],
   "source": [
    "model_2 = Sequential()\n",
    "model_2.add(Dense(32, activation=\"relu\", input_shape=(3072,)))\n",
    "model_2.add((Dense(1, activation=\"sigmoid\")))\n",
    "\n",
    "model_2.compile(optimizer=Adam(learning_rate=0.01), loss=\"binary_crossentropy\", metrics=[\"accuracy\"])\n",
    "model_2.summary()"
   ]
  },
  {
   "cell_type": "code",
   "execution_count": null,
   "metadata": {},
   "outputs": [],
   "source": [
    "history_2 = model_2.fit(X_train, y_train, validation_data=(X_val, y_val), batch_size=32, epochs=20)\n",
    "plot_model_history(history_2)\n",
    "\n",
    "print(\"Model 2 degerlendirmesi:\")\n",
    "model_2.evaluate(X_test, y_test)\n",
    "\n",
    "plot_model_tahminleri(model_2, X_test, y_test)"
   ]
  },
  {
   "cell_type": "markdown",
   "metadata": {},
   "source": [
    "### Model 3: İlk katman 8 nöron - aktivaston relu, ikinci katman 4 nöron - aktivasyon relu, çıkış 1 nöron, aktivasyon sigmoid"
   ]
  },
  {
   "cell_type": "code",
   "execution_count": null,
   "metadata": {},
   "outputs": [],
   "source": [
    "model_3 = Sequential()\n",
    "model_3.add(Dense(8, activation=\"relu\", input_shape=(3072,)))\n",
    "model_3.add(Dense(4, activation=\"relu\"))\n",
    "model_3.add((Dense(1, activation=\"sigmoid\")))\n",
    "\n",
    "model_3.compile(optimizer=Adam(learning_rate=0.01), loss=\"binary_crossentropy\", metrics=[\"accuracy\"])\n",
    "model_3.summary()"
   ]
  },
  {
   "cell_type": "code",
   "execution_count": null,
   "metadata": {},
   "outputs": [],
   "source": [
    "history_3 = model_3.fit(X_train, y_train, validation_data=(X_val, y_val), batch_size=32, epochs=20)\n",
    "plot_model_history(history_3)\n",
    "\n",
    "print(\"Model 3 degerlendirmesi:\")\n",
    "model_3.evaluate(X_test, y_test)\n",
    "\n",
    "plot_model_tahminleri(model_3, X_test, y_test)"
   ]
  },
  {
   "cell_type": "markdown",
   "metadata": {},
   "source": [
    "### Model 4: İlk katman 64 nöron - aktivaston linear, ikinci katman 64 nöron - aktivasyon relu, çıkış 1 nöron, aktivasyon sigmoid, validasyon setinde iyileşme durunca eğitim erken bitecek"
   ]
  },
  {
   "cell_type": "code",
   "execution_count": null,
   "metadata": {},
   "outputs": [],
   "source": [
    "model_4 = Sequential()\n",
    "model_4.add(Dense(64, activation=\"linear\", input_shape=(3072,)))\n",
    "model_4.add(Dense(64, activation=\"relu\"))\n",
    "model_4.add((Dense(1, activation=\"sigmoid\")))\n",
    "\n",
    "model_4.compile(optimizer=Adam(learning_rate=0.01), loss=\"binary_crossentropy\", metrics=[\"accuracy\"])\n",
    "model_4.summary()"
   ]
  },
  {
   "cell_type": "code",
   "execution_count": null,
   "metadata": {},
   "outputs": [],
   "source": [
    "from tensorflow.keras.callbacks import EarlyStopping"
   ]
  },
  {
   "cell_type": "code",
   "execution_count": null,
   "metadata": {},
   "outputs": [],
   "source": [
    "es_callback = EarlyStopping(monitor='val_loss', mode='min', patience=5, verbose=1, restore_best_weights=True)"
   ]
  },
  {
   "cell_type": "code",
   "execution_count": null,
   "metadata": {},
   "outputs": [],
   "source": [
    "history_4 = model_4.fit(X_train, y_train, validation_data=(X_val, y_val), batch_size=16, epochs=50, callbacks=[es_callback])\n",
    "\n",
    "plot_model_history(history_4)\n",
    "\n",
    "print(\"Model 4 degerlendirmesi:\")\n",
    "model_4.evaluate(X_test, y_test)\n",
    "\n",
    "plot_model_tahminleri(model_4, X_test, y_test)"
   ]
  }
 ],
 "metadata": {
  "interpreter": {
   "hash": "b25c72524e0bc61a78b3d6a2df84de3adaea47dfccaeebc487f09611983c18d9"
  },
  "kernelspec": {
   "display_name": "Python 3.8.10 ('mlp')",
   "language": "python",
   "name": "python3"
  },
  "language_info": {
   "codemirror_mode": {
    "name": "ipython",
    "version": 3
   },
   "file_extension": ".py",
   "mimetype": "text/x-python",
   "name": "python",
   "nbconvert_exporter": "python",
   "pygments_lexer": "ipython3",
   "version": "3.8.10"
  },
  "orig_nbformat": 4
 },
 "nbformat": 4,
 "nbformat_minor": 2
}
