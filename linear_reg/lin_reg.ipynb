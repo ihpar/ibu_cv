{
 "cells": [
  {
   "cell_type": "code",
   "execution_count": null,
   "metadata": {},
   "outputs": [],
   "source": [
    "import numpy as np\n",
    "import matplotlib.pyplot as plt"
   ]
  },
  {
   "cell_type": "markdown",
   "metadata": {},
   "source": [
    "### Veri seti oluşturma ve gösterme"
   ]
  },
  {
   "cell_type": "code",
   "execution_count": null,
   "metadata": {},
   "outputs": [],
   "source": [
    "ornek_sayisi = 100\n",
    "theta_0 = -3\n",
    "theta_1 = 0.5\n",
    "X = np.linspace(-2, 2, ornek_sayisi)\n",
    "y = theta_0 + (theta_1 * X) + np.random.normal(0, 0.05, size=ornek_sayisi)\n",
    "print(X.shape, y.shape)"
   ]
  },
  {
   "cell_type": "code",
   "execution_count": null,
   "metadata": {},
   "outputs": [],
   "source": [
    "plt.figure(figsize=(6, 6))\n",
    "plt.scatter(X, y)\n",
    "plt.xlabel(\"X\", fontsize=18)\n",
    "plt.ylabel(\"y\", fontsize=18)\n",
    "plt.show()"
   ]
  },
  {
   "cell_type": "code",
   "execution_count": null,
   "metadata": {},
   "outputs": [],
   "source": [
    "# verileri %80 - %20 olacak şekilde eğitim ve doğrulama verisi olarak ayır\n",
    "egitim_ornek_sayisi = int(ornek_sayisi * 0.8)\n",
    "\n",
    "X_egitim, X_val = X[:egitim_ornek_sayisi], X[egitim_ornek_sayisi:]\n",
    "y_egitim, y_val = y[:egitim_ornek_sayisi], y[egitim_ornek_sayisi:]\n",
    "\n",
    "print(f\"X egitim: {X_egitim.shape}, X validasyon: {X_val.shape}\")\n",
    "print(f\"y egitim: {y_egitim.shape}, y validasyon: {y_val.shape}\")"
   ]
  },
  {
   "cell_type": "markdown",
   "metadata": {},
   "source": [
    "### Doğrusal Regresyon ve Dereceli Alçalma"
   ]
  },
  {
   "cell_type": "markdown",
   "metadata": {},
   "source": [
    "$h_{\\theta}(x) = \\theta_0 + \\theta_1x$<br><br>\n",
    "$J(\\theta) = \\frac{1}{2m} \\sum\\limits_{i=1}^m (h_{\\theta}(x^{(i)}) - y^{(i)})^2$<br><br>\n",
    "$\\frac{\\partial}{\\partial \\theta_0}J(\\theta) = \\frac{1}{m} \\sum\\limits_{i=1}^m (\\theta_0+\\theta_1x^{(i)}-y^{(i)})$<br><br>\n",
    "$\\frac{\\partial}{\\partial \\theta_1}J(\\theta) = \\frac{1}{m} \\sum\\limits_{i=1}^m (\\theta_0+\\theta_1x^{(i)}-y^{(i)}) \\cdot x^{(i)}$<br>\n",
    "<br><br>\n",
    "$\\theta_j := \\theta_j - \\alpha \\frac{\\partial}{\\partial \\theta_j}J(\\theta)$\n"
   ]
  },
  {
   "cell_type": "markdown",
   "metadata": {},
   "source": [
    "### 1 \"Feature\" için Doğrusal Regresyon"
   ]
  },
  {
   "cell_type": "code",
   "execution_count": null,
   "metadata": {},
   "outputs": [],
   "source": [
    "# https://github.com/python-engineer/MLfromscratch/ adresindeki örnekten uyarlanmıştır.\n",
    "\n",
    "\n",
    "def hata_fonksiyonu(y_gercek, y_tahmin):\n",
    "    ornek_sayisi = len(y_gercek)\n",
    "    hata = 1 / (2 * ornek_sayisi) * np.sum((y_tahmin - y_gercek) ** 2)\n",
    "    return hata\n",
    "\n",
    "\n",
    "class LinearRegression_1_feature:\n",
    "    def __init__(self, ogrenme_hizi):\n",
    "        self.ogrenme_hizi = ogrenme_hizi\n",
    "        self.theta_0 = None\n",
    "        self.theta_1 = None\n",
    "\n",
    "    def fit(self, X, y, tekrar_sayisi):\n",
    "        ornek_sayisi = len(X)\n",
    "\n",
    "        # parametrelere ilk değerlerini ata\n",
    "        self.theta_0 = 0\n",
    "        self.theta_1 = 0\n",
    "\n",
    "        # grafiği hazırla\n",
    "        plt.figure(figsize=(8, 8))\n",
    "        plt.scatter(X, y)\n",
    "        plt.xlabel(\"X\", fontsize=18)\n",
    "        plt.ylabel(\"y\", fontsize=18)\n",
    "\n",
    "        hatalar = []\n",
    "\n",
    "        # gradient descent\n",
    "        for i in range(tekrar_sayisi):\n",
    "            y_tahmin = self.theta_0 + (self.theta_1 * X)\n",
    "\n",
    "            # türevleri hesapla\n",
    "            d_theta_0 = (1 / ornek_sayisi) * np.sum(y_tahmin - y)\n",
    "            d_theta_1 = (1 / ornek_sayisi) * np.dot(X.T, (y_tahmin - y))\n",
    "\n",
    "            # parametreleri güncelle\n",
    "            self.theta_0 = self.theta_0 - self.ogrenme_hizi * d_theta_0\n",
    "            self.theta_1 = self.theta_1 - self.ogrenme_hizi * d_theta_1\n",
    "\n",
    "            # her 50 döngüde bir tahmin grafiğini göster\n",
    "            if i % 50 == 0:\n",
    "                plt.plot(X, y_tahmin)\n",
    "                hata = hata_fonksiyonu(y, y_tahmin)\n",
    "                hatalar.append(hata)\n",
    "\n",
    "        plt.show()\n",
    "        return hatalar\n",
    "\n",
    "    def predict(self, X):\n",
    "        y_tahmin = self.theta_0 + (self.theta_1 * X)\n",
    "        return y_tahmin\n",
    "\n",
    "    def get_params(self):\n",
    "        return self.theta_0, self.theta_1\n"
   ]
  },
  {
   "cell_type": "markdown",
   "metadata": {},
   "source": [
    "### Model Oluşturma ve Eğitme"
   ]
  },
  {
   "cell_type": "code",
   "execution_count": null,
   "metadata": {},
   "outputs": [],
   "source": [
    "model = LinearRegression_1_feature(0.01)"
   ]
  },
  {
   "cell_type": "code",
   "execution_count": null,
   "metadata": {},
   "outputs": [],
   "source": [
    "hatalar = model.fit(X_egitim, y_egitim, 1000)"
   ]
  },
  {
   "cell_type": "code",
   "execution_count": null,
   "metadata": {},
   "outputs": [],
   "source": [
    "plt.figure(figsize=(6, 6))\n",
    "plt.plot(range(len(hatalar)), hatalar)\n",
    "plt.xlabel(\"Zaman\", fontsize=18)\n",
    "plt.ylabel(r\"$J(\\theta)$\", fontsize=18)\n",
    "plt.show()"
   ]
  },
  {
   "cell_type": "code",
   "execution_count": null,
   "metadata": {},
   "outputs": [],
   "source": [
    "plt.figure(figsize=(6, 6))\n",
    "plt.scatter(X_egitim, y_egitim)\n",
    "\n",
    "plt.xlabel(\"X\", fontsize=18)\n",
    "plt.ylabel(\"y\", fontsize=18)\n",
    "\n",
    "y_tahmin = model.predict(X_egitim)\n",
    "plt.plot(X_egitim, y_tahmin, color=\"red\", linewidth=4)\n",
    "\n",
    "plt.show()"
   ]
  },
  {
   "cell_type": "markdown",
   "metadata": {},
   "source": [
    "### Model Doğrulama (Validasyon)"
   ]
  },
  {
   "cell_type": "code",
   "execution_count": null,
   "metadata": {},
   "outputs": [],
   "source": [
    "plt.figure(figsize=(6, 6))\n",
    "plt.scatter(X_val, y_val)\n",
    "\n",
    "plt.xlabel(\"X\", fontsize=18)\n",
    "plt.ylabel(\"y\", fontsize=18)\n",
    "\n",
    "plt.plot(X_val, model.predict(X_val), color=\"red\", linewidth=4)\n",
    "\n",
    "plt.show()"
   ]
  },
  {
   "cell_type": "code",
   "execution_count": null,
   "metadata": {},
   "outputs": [],
   "source": [
    "def mean_squared_error(y_gercek, y_tahmin):\n",
    "    return np.mean((y_gercek - y_tahmin) ** 2)"
   ]
  },
  {
   "cell_type": "code",
   "execution_count": null,
   "metadata": {},
   "outputs": [],
   "source": [
    "print(f\"MSE: {mean_squared_error(y_val, model.predict(X_val))}\")"
   ]
  },
  {
   "cell_type": "code",
   "execution_count": null,
   "metadata": {},
   "outputs": [],
   "source": [
    "print(f\"Modelin öğrendiği parametreler: {model.get_params()}\")"
   ]
  },
  {
   "cell_type": "markdown",
   "metadata": {},
   "source": [
    "## 1'den çok \"Feature\" için Doğrusal Regresyon\n",
    "### Veri seti hazırlama"
   ]
  },
  {
   "cell_type": "code",
   "execution_count": null,
   "metadata": {},
   "outputs": [],
   "source": [
    "ornek_sayisi = 100\n",
    "theta_arr = np.array([3, -2, 5])\n",
    "\n",
    "X = np.ones((ornek_sayisi, 3))\n",
    "X[:,1] = np.linspace(-2, 1, ornek_sayisi).T\n",
    "X[:,2] = np.linspace(1, 2, ornek_sayisi).T\n",
    "\n",
    "y = np.dot(X, theta_arr.T)\n",
    "\n",
    "print(\"İlk 5 X değeri:\")\n",
    "print(X[:5])\n",
    "print(\"İlk 5 y değeri:\")\n",
    "print(y[:5])"
   ]
  },
  {
   "cell_type": "code",
   "execution_count": null,
   "metadata": {},
   "outputs": [],
   "source": [
    "print(X.shape, y.shape)"
   ]
  },
  {
   "cell_type": "code",
   "execution_count": null,
   "metadata": {},
   "outputs": [],
   "source": [
    "class LinearRegression:\n",
    "    def __init__(self, ogrenme_hizi):\n",
    "        self.ogrenme_hizi = ogrenme_hizi\n",
    "        self.thetalar = None\n",
    "\n",
    "    def fit(self, X, y, tekrar_sayisi):\n",
    "        ornek_sayisi, feature_sayisi = X.shape\n",
    "\n",
    "        # parametrelere ilk değerlerini ata\n",
    "        self.thetalar = np.zeros(feature_sayisi)\n",
    "        hatalar = []\n",
    "\n",
    "        # gradient descent\n",
    "        for i in range(tekrar_sayisi):\n",
    "            y_tahmin = np.dot(X, self.thetalar.T)\n",
    "\n",
    "            # türevleri hesapla\n",
    "            d_thetalar = (1 / ornek_sayisi) * np.dot(X.T, (y_tahmin - y))\n",
    "\n",
    "            # parametreleri güncelle\n",
    "            self.thetalar = self.thetalar - self.ogrenme_hizi * d_thetalar\n",
    "\n",
    "            # her 20 döngüde bir hatayı kaydet\n",
    "            if i % 20 == 0:\n",
    "                hata = hata_fonksiyonu(y, y_tahmin)\n",
    "                hatalar.append(hata)\n",
    "\n",
    "        return hatalar\n",
    "\n",
    "    def predict(self, X):\n",
    "        y_tahmin = np.dot(X, self.thetalar.T)\n",
    "        return y_tahmin\n",
    "\n",
    "    def get_params(self):\n",
    "        return self.thetalar"
   ]
  },
  {
   "cell_type": "code",
   "execution_count": null,
   "metadata": {},
   "outputs": [],
   "source": [
    "lr_model = LinearRegression(0.01)\n",
    "hatalar = lr_model.fit(X, y, 500)"
   ]
  },
  {
   "cell_type": "code",
   "execution_count": null,
   "metadata": {},
   "outputs": [],
   "source": [
    "plt.figure(figsize=(6, 6))\n",
    "plt.plot(range(len(hatalar)), hatalar)\n",
    "plt.xlabel(\"Zaman\", fontsize=18)\n",
    "plt.ylabel(r\"$J(\\theta)$\", fontsize=18)\n",
    "plt.show()"
   ]
  },
  {
   "cell_type": "code",
   "execution_count": null,
   "metadata": {},
   "outputs": [],
   "source": [
    "print(\"Öğrenilen Theta değerleri (doğru değerler: [3, -2, 5]:\")\n",
    "print(lr_model.get_params())"
   ]
  }
 ],
 "metadata": {
  "interpreter": {
   "hash": "b25c72524e0bc61a78b3d6a2df84de3adaea47dfccaeebc487f09611983c18d9"
  },
  "kernelspec": {
   "display_name": "Python 3.8.10 ('mlp')",
   "language": "python",
   "name": "python3"
  },
  "language_info": {
   "codemirror_mode": {
    "name": "ipython",
    "version": 3
   },
   "file_extension": ".py",
   "mimetype": "text/x-python",
   "name": "python",
   "nbconvert_exporter": "python",
   "pygments_lexer": "ipython3",
   "version": "3.8.10"
  },
  "orig_nbformat": 4
 },
 "nbformat": 4,
 "nbformat_minor": 2
}
