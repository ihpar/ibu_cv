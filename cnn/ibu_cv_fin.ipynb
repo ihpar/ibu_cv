{
  "cells": [
    {
      "cell_type": "code",
      "execution_count": null,
      "metadata": {},
      "outputs": [],
      "source": [
        "# !rm -fr \"/content/food_101\" "
      ]
    },
    {
      "cell_type": "code",
      "execution_count": null,
      "metadata": {
        "id": "a_HlC5I6E2vl"
      },
      "outputs": [],
      "source": [
        "# !gdown 1H1GZ2bzMcnwec8_NTWeBkFtXxyUeVTZ1 "
      ]
    },
    {
      "cell_type": "code",
      "execution_count": null,
      "metadata": {
        "colab": {
          "base_uri": "https://localhost:8080/"
        },
        "id": "sd4IRH__JJf2",
        "outputId": "31a292ff-dd25-4198-a59b-10a4246a7ad5"
      },
      "outputs": [],
      "source": [
        "# !unzip \"/content/food_101_3_classes.zip\" -d food_101"
      ]
    },
    {
      "cell_type": "code",
      "execution_count": null,
      "metadata": {
        "id": "Ysu4DukYKL2E"
      },
      "outputs": [],
      "source": [
        "# !rm -rf \"/content/food_101/__MACOSX\""
      ]
    },
    {
      "cell_type": "code",
      "execution_count": null,
      "metadata": {
        "id": "yzvL1_JgK3fJ"
      },
      "outputs": [],
      "source": [
        "import tensorflow as tf\n",
        "import numpy as np\n",
        "import matplotlib.pyplot as plt\n",
        "from tensorflow.keras.preprocessing.image import ImageDataGenerator\n",
        "import pandas as pd"
      ]
    },
    {
      "cell_type": "code",
      "execution_count": null,
      "metadata": {
        "id": "isi_1jbKLSeB"
      },
      "outputs": [],
      "source": [
        "train_path = \"/content/food_101/food_101_3_classes/train\"\n",
        "test_path = \"/content/food_101/food_101_3_classes/test\""
      ]
    },
    {
      "cell_type": "code",
      "execution_count": null,
      "metadata": {
        "id": "G1RQRz9ALfDR"
      },
      "outputs": [],
      "source": [
        "train_gen = ImageDataGenerator(rescale=1/255.)\n",
        "test_gen = ImageDataGenerator(rescale=1/255.)"
      ]
    },
    {
      "cell_type": "code",
      "execution_count": null,
      "metadata": {
        "colab": {
          "base_uri": "https://localhost:8080/"
        },
        "id": "mTKQlpWGLgGG",
        "outputId": "d56c46b3-5e77-426c-de43-c04fcc12a863"
      },
      "outputs": [],
      "source": [
        "train_set = train_gen.flow_from_directory(train_path,\n",
        "                                          target_size=(224, 224),\n",
        "                                          batch_size=32,\n",
        "                                          class_mode=\"categorical\")\n",
        "\n",
        "test_set = test_gen.flow_from_directory(test_path,\n",
        "                                        target_size=(224, 224),\n",
        "                                        batch_size=32,\n",
        "                                        class_mode=\"categorical\")"
      ]
    },
    {
      "cell_type": "code",
      "execution_count": null,
      "metadata": {
        "colab": {
          "base_uri": "https://localhost:8080/",
          "height": 692
        },
        "id": "Y8xW7CWrgUuW",
        "outputId": "6a3462a2-ec4d-4543-a6b9-96dbec78fffd"
      },
      "outputs": [],
      "source": [
        "print(\"Train set length\", len(train_set))\n",
        "\n",
        "batch = next(train_set)\n",
        "\n",
        "print(\"Batch [0] shape\", batch[0].shape)\n",
        "print(\"Batch [1] shape\", batch[1].shape)\n",
        "\n",
        "img = batch[0][0]\n",
        "print(\"Image shape\", img.shape)\n",
        "\n",
        "label = batch[1][0]\n",
        "print(\"Label\", label)\n",
        "\n",
        "print(\"Test set classes\", test_set.class_indices)\n",
        "label_texts = [\"Hamburger\", \"Ice cream\", \"Pizza\"]\n",
        "\n",
        "plt.figure(figsize=(8, 8))\n",
        "\n",
        "for i in range(9):\n",
        "    plt.subplot(3, 3, i+1)\n",
        "    plt.title(label_texts[np.argmax(batch[1][i])])\n",
        "    plt.imshow(batch[0][i])\n",
        "\n",
        "plt.tight_layout()\n",
        "plt.show()"
      ]
    },
    {
      "cell_type": "code",
      "execution_count": null,
      "metadata": {
        "id": "5mLpewSOLnCf"
      },
      "outputs": [],
      "source": [
        "model = tf.keras.Sequential([\n",
        "    tf.keras.layers.Conv2D(10, 3, activation=\"relu\", input_shape=(224, 224, 3)),\n",
        "    tf.keras.layers.Conv2D(10, 3, activation=\"relu\"),\n",
        "    tf.keras.layers.MaxPool2D(),\n",
        "    tf.keras.layers.Conv2D(10, 3, activation=\"relu\"),\n",
        "    tf.keras.layers.Conv2D(10, 3, activation=\"relu\"),\n",
        "    tf.keras.layers.MaxPool2D(),\n",
        "    tf.keras.layers.Flatten(),\n",
        "    tf.keras.layers.Dense(3, activation=\"softmax\")\n",
        "])\n",
        "\n",
        "model.compile(loss=tf.keras.losses.CategoricalCrossentropy(),\n",
        "              optimizer=tf.keras.optimizers.Adam(),\n",
        "              metrics=[\"accuracy\"])"
      ]
    },
    {
      "cell_type": "code",
      "execution_count": null,
      "metadata": {
        "colab": {
          "base_uri": "https://localhost:8080/"
        },
        "id": "7ggZoiQBLpjO",
        "outputId": "2086ec85-ad1d-47dd-da14-526f19e91064"
      },
      "outputs": [],
      "source": [
        "history = model.fit(train_set,\n",
        "                    epochs=5,\n",
        "                    validation_data=test_set,\n",
        "                    steps_per_epoch=len(train_set),\n",
        "                    validation_steps=int(.25 * len(test_set)))"
      ]
    },
    {
      "cell_type": "code",
      "execution_count": null,
      "metadata": {
        "colab": {
          "base_uri": "https://localhost:8080/"
        },
        "id": "vABCT2w3LsfT",
        "outputId": "8c5c51c6-d3ac-48cc-fe5b-7aa677451a78"
      },
      "outputs": [],
      "source": [
        "model.evaluate(test_set)"
      ]
    },
    {
      "cell_type": "code",
      "execution_count": null,
      "metadata": {
        "colab": {
          "base_uri": "https://localhost:8080/",
          "height": 483
        },
        "id": "qEwSjKe2L_s-",
        "outputId": "fbe2d321-a39a-4a34-d9d5-5bb1b9f04e50"
      },
      "outputs": [],
      "source": [
        "pd.DataFrame(history.history).plot(figsize=(8, 8))\n",
        "plt.show()"
      ]
    },
    {
      "cell_type": "code",
      "execution_count": null,
      "metadata": {
        "colab": {
          "base_uri": "https://localhost:8080/",
          "height": 585
        },
        "id": "Pl2_2jgcjVJW",
        "outputId": "33bf63ef-07d9-4c69-d19e-33152da3d487"
      },
      "outputs": [],
      "source": [
        "test_batch = next(test_set)\n",
        "predictions = model.predict(test_batch[0])\n",
        "\n",
        "plt.figure(figsize=(8, 8))\n",
        "\n",
        "for i in range(9):\n",
        "    plt.subplot(3, 3, i+1)\n",
        "    plt.title(label_texts[np.argmax(predictions[i])])\n",
        "    plt.imshow(test_batch[0][i])\n",
        "\n",
        "plt.tight_layout()\n",
        "plt.show()"
      ]
    },
    {
      "cell_type": "code",
      "execution_count": null,
      "metadata": {
        "id": "PTMOPOCiMM6C"
      },
      "outputs": [],
      "source": [
        "model2 = tf.keras.Sequential([\n",
        "    tf.keras.layers.Conv2D(10, 3, activation=\"relu\", input_shape=(224, 224, 3)),\n",
        "    tf.keras.layers.MaxPool2D(),\n",
        "    tf.keras.layers.Conv2D(10, 3, activation=\"relu\"),\n",
        "    tf.keras.layers.MaxPool2D(),\n",
        "    tf.keras.layers.Conv2D(10, 3, activation=\"relu\"),\n",
        "    tf.keras.layers.MaxPool2D(),\n",
        "    tf.keras.layers.Flatten(),\n",
        "    tf.keras.layers.Dense(3, activation=\"softmax\")\n",
        "])\n",
        "\n",
        "model2.compile(loss=tf.keras.losses.CategoricalCrossentropy(),\n",
        "               optimizer=tf.keras.optimizers.Adam(),\n",
        "               metrics=[\"accuracy\"])"
      ]
    },
    {
      "cell_type": "code",
      "execution_count": null,
      "metadata": {
        "colab": {
          "base_uri": "https://localhost:8080/"
        },
        "id": "CzUJzJd6OUKM",
        "outputId": "2820e96b-c487-4e75-fcc6-7af204ced151"
      },
      "outputs": [],
      "source": [
        "history2 = model2.fit(train_set,\n",
        "                      epochs=5,\n",
        "                      validation_data=test_set,\n",
        "                      steps_per_epoch=len(train_set),\n",
        "                      validation_steps=int(.25 * len(test_set)))"
      ]
    },
    {
      "cell_type": "code",
      "execution_count": null,
      "metadata": {
        "colab": {
          "base_uri": "https://localhost:8080/"
        },
        "id": "9yA9XTfYm1-W",
        "outputId": "20410c55-36c9-4e7a-ba38-1ac96cbabb45"
      },
      "outputs": [],
      "source": [
        "model2.evaluate(test_set)"
      ]
    },
    {
      "cell_type": "code",
      "execution_count": null,
      "metadata": {
        "colab": {
          "base_uri": "https://localhost:8080/",
          "height": 483
        },
        "id": "fzhbSNRCMPcz",
        "outputId": "91114f80-6a39-49df-ec84-c19eca00c55b"
      },
      "outputs": [],
      "source": [
        "pd.DataFrame(history2.history).plot(figsize=(8, 8))\n",
        "plt.show()"
      ]
    },
    {
      "cell_type": "code",
      "execution_count": null,
      "metadata": {
        "colab": {
          "base_uri": "https://localhost:8080/",
          "height": 585
        },
        "id": "clr4ibllmjxN",
        "outputId": "da85c485-97d2-4111-ac8f-c24bc0be4726"
      },
      "outputs": [],
      "source": [
        "predictions2 = model2.predict(test_batch[0])\n",
        "\n",
        "plt.figure(figsize=(8, 8))\n",
        "\n",
        "for i in range(9):\n",
        "    plt.subplot(3, 3, i+1)\n",
        "    plt.title(label_texts[np.argmax(predictions2[i])])\n",
        "    plt.imshow(test_batch[0][i])\n",
        "\n",
        "plt.tight_layout()\n",
        "plt.show()"
      ]
    },
    {
      "cell_type": "code",
      "execution_count": null,
      "metadata": {
        "id": "2EnDx0SmMS1v"
      },
      "outputs": [],
      "source": [
        "image_gen = ImageDataGenerator(rotation_range=40,\n",
        "                               height_shift_range=0.2,\n",
        "                               width_shift_range=0.2,\n",
        "                               shear_range=0.2,\n",
        "                               zoom_range=0.2,\n",
        "                               horizontal_flip=True,\n",
        "                               fill_mode=\"nearest\")"
      ]
    },
    {
      "cell_type": "code",
      "execution_count": null,
      "metadata": {
        "id": "ScBZLV020_va"
      },
      "outputs": [],
      "source": [
        "import os\n",
        "from skimage import io\n",
        "from PIL import Image"
      ]
    },
    {
      "cell_type": "code",
      "execution_count": null,
      "metadata": {
        "colab": {
          "base_uri": "https://localhost:8080/"
        },
        "id": "R5QqL_z802pG",
        "outputId": "41e33a54-f4c1-4268-82ef-294cb370c3e0"
      },
      "outputs": [],
      "source": [
        "hamburgers = []\n",
        "hamburger_dir = \"/content/food_101/food_101_3_classes/train/hamburger/\"\n",
        "my_images = os.listdir(hamburger_dir)\n",
        "\n",
        "for i, image_name in enumerate(my_images):\n",
        "    if (image_name.split(\".\")[1] == \"jpg\"):\n",
        "        image = io.imread(hamburger_dir + image_name)\n",
        "        image = Image.fromarray(image, \"RGB\")\n",
        "        image = image.resize((224, 224))\n",
        "        hamburgers.append(np.array(image))\n",
        "\n",
        "hamburgers = np.array(hamburgers)"
      ]
    },
    {
      "cell_type": "code",
      "execution_count": null,
      "metadata": {
        "colab": {
          "base_uri": "https://localhost:8080/",
          "height": 287
        },
        "id": "6P8bVoSV1uGw",
        "outputId": "a7d7d396-a866-4506-ef8d-f1af0390f31c"
      },
      "outputs": [],
      "source": [
        "print(hamburgers.shape)\n",
        "\n",
        "plt.imshow(hamburgers[0])\n",
        "plt.show()"
      ]
    },
    {
      "cell_type": "code",
      "execution_count": null,
      "metadata": {
        "collapsed": true,
        "id": "OUeeYwjTn3vI"
      },
      "outputs": [],
      "source": [
        "i = 0\n",
        "for batch in image_gen.flow(hamburgers,\n",
        "                            batch_size=32,\n",
        "                            save_to_dir=hamburger_dir,\n",
        "                            save_prefix=\"ham_aug\",\n",
        "                            save_format=\"jpg\"):\n",
        "    if i == 12:\n",
        "        break\n",
        "    i += 1"
      ]
    },
    {
      "cell_type": "code",
      "execution_count": null,
      "metadata": {
        "id": "a8zHUY0J41Zi"
      },
      "outputs": [],
      "source": [
        "def augment_images(img_dir, image_generator):\n",
        "    dataset = []\n",
        "    images = os.listdir(img_dir)\n",
        "    for i, image_name in enumerate(images):\n",
        "        ext = image_name.split(\".\")[1]\n",
        "        if ext != \"jpg\":\n",
        "            continue\n",
        "\n",
        "        image = io.imread(img_dir + image_name)\n",
        "        image = Image.fromarray(image, \"RGB\")\n",
        "        image = image.resize((224, 224))\n",
        "        dataset.append(np.array(image))\n",
        "\n",
        "    dataset = np.array(dataset)\n",
        "\n",
        "    i = 0\n",
        "    for batch in image_generator.flow(dataset, batch_size=32,\n",
        "                                      save_to_dir=img_dir, save_prefix=\"aug\",\n",
        "                                      save_format=\"jpg\"):\n",
        "        if i == 12:\n",
        "            break\n",
        "        i += 1"
      ]
    },
    {
      "cell_type": "code",
      "execution_count": null,
      "metadata": {
        "colab": {
          "base_uri": "https://localhost:8080/"
        },
        "id": "-dQYPsLV6DbB",
        "outputId": "ce3e5142-55cc-4289-b17e-5d984bf274be"
      },
      "outputs": [],
      "source": [
        "augment_images(\"/content/food_101/food_101_3_classes/train/ice_cream/\", image_gen)\n",
        "augment_images(\"/content/food_101/food_101_3_classes/train/pizza/\", image_gen)"
      ]
    },
    {
      "cell_type": "code",
      "execution_count": null,
      "metadata": {
        "colab": {
          "base_uri": "https://localhost:8080/"
        },
        "id": "iLObl7My6v-o",
        "outputId": "af8df510-9cfc-4c80-f126-e2c4d6ae8dd2"
      },
      "outputs": [],
      "source": [
        "train_gen = ImageDataGenerator(rescale=1/255.)\n",
        "test_gen = ImageDataGenerator(rescale=1/255.)\n",
        "\n",
        "train_set = train_gen.flow_from_directory(train_path,\n",
        "                                          target_size=(224, 224),\n",
        "                                          batch_size=32,\n",
        "                                          class_mode=\"categorical\")\n",
        "\n",
        "test_set = test_gen.flow_from_directory(test_path,\n",
        "                                        target_size=(224, 224),\n",
        "                                        batch_size=32,\n",
        "                                        class_mode=\"categorical\")"
      ]
    },
    {
      "cell_type": "code",
      "execution_count": null,
      "metadata": {
        "colab": {
          "base_uri": "https://localhost:8080/",
          "height": 692
        },
        "id": "lKRIyWcM_vqi",
        "outputId": "417f4048-5b81-466c-92ae-e39eb9c496dd"
      },
      "outputs": [],
      "source": [
        "print(\"Train set length\", len(train_set))\n",
        "\n",
        "batch = next(train_set)\n",
        "\n",
        "print(\"Batch [0] shape\", batch[0].shape)\n",
        "print(\"Batch [1] shape\", batch[1].shape)\n",
        "\n",
        "img = batch[0][0]\n",
        "print(\"Image shape\", img.shape)\n",
        "\n",
        "label = batch[1][0]\n",
        "print(\"Label\", label)\n",
        "\n",
        "print(\"Test set classes\", test_set.class_indices)\n",
        "label_texts = [\"Hamburger\", \"Ice cream\", \"Pizza\"]\n",
        "\n",
        "plt.figure(figsize=(8, 8))\n",
        "\n",
        "for i in range(9):\n",
        "    plt.subplot(3, 3, i+1)\n",
        "    plt.title(label_texts[np.argmax(batch[1][i])])\n",
        "    plt.imshow(batch[0][i])\n",
        "\n",
        "plt.tight_layout()\n",
        "plt.show()"
      ]
    },
    {
      "cell_type": "code",
      "execution_count": null,
      "metadata": {
        "colab": {
          "base_uri": "https://localhost:8080/"
        },
        "id": "02FCl3tbMYUB",
        "outputId": "352c2498-810c-4778-a2e6-5e6e801799ea"
      },
      "outputs": [],
      "source": [
        "model3 = tf.keras.Sequential([\n",
        "    tf.keras.layers.Conv2D(10, 3, activation=\"relu\", input_shape=(224, 224, 3)),\n",
        "    tf.keras.layers.MaxPool2D(),\n",
        "    tf.keras.layers.Conv2D(10, 3, activation=\"relu\"),\n",
        "    tf.keras.layers.MaxPool2D(),\n",
        "    tf.keras.layers.Conv2D(10, 3, activation=\"relu\"),\n",
        "    tf.keras.layers.MaxPool2D(),\n",
        "    tf.keras.layers.Flatten(),\n",
        "    tf.keras.layers.Dense(3, activation=\"softmax\")\n",
        "])\n",
        "\n",
        "model3.compile(loss=tf.keras.losses.CategoricalCrossentropy(),\n",
        "               optimizer=tf.keras.optimizers.Adam(),\n",
        "               metrics=[\"accuracy\"])\n",
        "\n",
        "history3 = model3.fit(train_set,\n",
        "                      epochs=5,\n",
        "                      steps_per_epoch=len(train_set),\n",
        "                      validation_data=test_set,\n",
        "                      validation_steps=int(.25 * len(test_set)))"
      ]
    },
    {
      "cell_type": "code",
      "execution_count": null,
      "metadata": {
        "colab": {
          "base_uri": "https://localhost:8080/"
        },
        "id": "EMtLiUQv8fY-",
        "outputId": "806cfc60-db98-472e-87ea-a46a9e2870b4"
      },
      "outputs": [],
      "source": [
        "model3.evaluate(test_set)"
      ]
    },
    {
      "cell_type": "code",
      "execution_count": null,
      "metadata": {
        "colab": {
          "base_uri": "https://localhost:8080/",
          "height": 483
        },
        "id": "MLqvUtApMcGv",
        "outputId": "7d81177f-1fb8-4d88-ad6e-1bb64ee97077"
      },
      "outputs": [],
      "source": [
        "pd.DataFrame(history3.history).plot(figsize=(8, 8))\n",
        "plt.show()"
      ]
    }
  ],
  "metadata": {
    "accelerator": "GPU",
    "colab": {
      "name": "ibu_cv_fin.ipynb",
      "provenance": []
    },
    "interpreter": {
      "hash": "b25c72524e0bc61a78b3d6a2df84de3adaea47dfccaeebc487f09611983c18d9"
    },
    "kernelspec": {
      "display_name": "Python 3.8.10 ('mlp')",
      "language": "python",
      "name": "python3"
    },
    "language_info": {
      "codemirror_mode": {
        "name": "ipython",
        "version": 3
      },
      "file_extension": ".py",
      "mimetype": "text/x-python",
      "name": "python",
      "nbconvert_exporter": "python",
      "pygments_lexer": "ipython3",
      "version": "3.8.10"
    }
  },
  "nbformat": 4,
  "nbformat_minor": 0
}
