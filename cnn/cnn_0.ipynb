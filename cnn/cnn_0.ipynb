{
 "cells": [
  {
   "cell_type": "code",
   "execution_count": null,
   "metadata": {},
   "outputs": [],
   "source": [
    "import numpy as np\n",
    "from PIL import Image\n",
    "import matplotlib.pyplot as plt\n",
    "import math"
   ]
  },
  {
   "cell_type": "code",
   "execution_count": null,
   "metadata": {},
   "outputs": [],
   "source": [
    "image_path = \"konak.jpg\""
   ]
  },
  {
   "cell_type": "code",
   "execution_count": null,
   "metadata": {},
   "outputs": [],
   "source": [
    "img = Image.open(image_path).convert(\"L\")\n",
    "img = np.array(img)\n",
    "print(img.shape)"
   ]
  },
  {
   "cell_type": "code",
   "execution_count": null,
   "metadata": {},
   "outputs": [],
   "source": [
    "plt.figure(figsize=(12, 8))\n",
    "plt.title(\"Izmir Konak\")\n",
    "plt.imshow(img, cmap=\"gray\")\n",
    "plt.show()"
   ]
  },
  {
   "cell_type": "code",
   "execution_count": null,
   "metadata": {},
   "outputs": [],
   "source": [
    "filter_0 = np.array([\n",
    "    [1, 0, -1],\n",
    "    [1, 0, -1],\n",
    "    [1, 0, -1]\n",
    "])"
   ]
  },
  {
   "cell_type": "code",
   "execution_count": null,
   "metadata": {},
   "outputs": [],
   "source": [
    "def apply_filter(img, filter):\n",
    "    img_height, img_width = img.shape\n",
    "    print(f\"Image height: {img_height}, width: {img_width}\")\n",
    "\n",
    "    filter_height, filter_width = filter.shape\n",
    "    print(f\"Filter height: {filter_height}, width: {filter_width}\")\n",
    "\n",
    "    num_horizontal_movements = img_width - filter_width + 1\n",
    "    num_vertical_movements = img_height - filter_height + 1\n",
    "    \n",
    "    filtered_img = np.zeros((num_vertical_movements, num_horizontal_movements))\n",
    "    \n",
    "    for i in range(num_vertical_movements):\n",
    "        for j in range(num_horizontal_movements):\n",
    "            img_subset = img[i: i+filter_height, j: j+filter_width]\n",
    "            summation = np.sum(img_subset * filter)\n",
    "            filtered_img[i, j] = summation\n",
    "    \n",
    "    return filtered_img"
   ]
  },
  {
   "cell_type": "code",
   "execution_count": null,
   "metadata": {},
   "outputs": [],
   "source": [
    "filtered_img_0 = apply_filter(img, filter_0)"
   ]
  },
  {
   "cell_type": "code",
   "execution_count": null,
   "metadata": {},
   "outputs": [],
   "source": [
    "plt.figure(figsize=(12, 8))\n",
    "plt.title(\"Filter 0 Result\")\n",
    "plt.imshow(filtered_img_0, cmap=\"gray\")\n",
    "plt.show()"
   ]
  },
  {
   "cell_type": "code",
   "execution_count": null,
   "metadata": {},
   "outputs": [],
   "source": [
    "filter_1 = np.array([\n",
    "    [1, 1, 1],\n",
    "    [0, 0, 0],\n",
    "    [-1, -1, -1]\n",
    "])\n",
    "filtered_img_1 = apply_filter(img, filter_1)\n",
    "plt.figure(figsize=(12, 8))\n",
    "plt.title(\"Filter 1 Result\")\n",
    "plt.imshow(filtered_img_1, cmap=\"gray\")\n",
    "plt.show()"
   ]
  },
  {
   "cell_type": "code",
   "execution_count": null,
   "metadata": {},
   "outputs": [],
   "source": [
    "plt.figure(figsize=(18, 18))\n",
    "plt.subplot(1, 2, 1)\n",
    "plt.title(\"Filter 0\")\n",
    "plt.imshow(filtered_img_0, cmap=\"gray\")\n",
    "plt.subplot(1, 2, 2)\n",
    "plt.title(\"Filter 1\")\n",
    "plt.imshow(filtered_img_1, cmap=\"gray\")\n",
    "plt.tight_layout()\n",
    "plt.show()"
   ]
  },
  {
   "cell_type": "code",
   "execution_count": null,
   "metadata": {},
   "outputs": [],
   "source": [
    "filter_2 = np.array([\n",
    "    [0.0625, 0.125, 0.0625],\n",
    "    [0.125,   0.25, 0.125],\n",
    "    [0.0625, 0.125, 0.0625]\n",
    "])\n",
    "filtered_img_2 = apply_filter(img, filter_2)\n",
    "\n",
    "filter_3 = np.array([\n",
    "    [0, -0.2, 0],\n",
    "    [-0.2, 1, -0.2],\n",
    "    [0, -0.2, 0]\n",
    "])\n",
    "filtered_img_3 = apply_filter(img, filter_3)\n",
    "\n",
    "plt.figure(figsize=(18, 18))\n",
    "plt.subplot(1, 2, 1)\n",
    "plt.title(\"Filter 2\")\n",
    "plt.imshow(filtered_img_2, cmap=\"gray\")\n",
    "plt.subplot(1, 2, 2)\n",
    "plt.title(\"Filter 3\")\n",
    "plt.imshow(filtered_img_3, cmap=\"gray\")\n",
    "plt.tight_layout()\n",
    "plt.show()"
   ]
  },
  {
   "cell_type": "markdown",
   "metadata": {},
   "source": [
    "### Stride"
   ]
  },
  {
   "cell_type": "code",
   "execution_count": null,
   "metadata": {},
   "outputs": [],
   "source": [
    "def convolve_with_stride(img, filter, stride=1):\n",
    "    img_height, img_width = img.shape\n",
    "    print(f\"Image height: {img_height}, width: {img_width}\")\n",
    "\n",
    "    filter_height, filter_width = filter.shape\n",
    "    print(f\"Filter height: {filter_height}, width: {filter_width}\")\n",
    "\n",
    "    target_img_height = math.floor((img_height - filter_height) / stride) + 1\n",
    "    target_img_width = math.floor((img_width - filter_width) / stride) + 1\n",
    "    print(\n",
    "        f\"Target image height: {target_img_height}, width: {target_img_width}\")\n",
    "\n",
    "    filtered_img = np.zeros((target_img_height, target_img_width))\n",
    "\n",
    "    for i in range(target_img_height):\n",
    "        for j in range(target_img_width):\n",
    "            img_subset = img[i*stride: i*stride + filter_height, \n",
    "                            j*stride: j*stride+filter_width]\n",
    "            summation = np.sum(img_subset * filter)\n",
    "            filtered_img[i, j] = summation\n",
    "    \n",
    "    return filtered_img"
   ]
  },
  {
   "cell_type": "code",
   "execution_count": null,
   "metadata": {},
   "outputs": [],
   "source": [
    "filter_4 = np.array([\n",
    "    [0, -1, 0],\n",
    "    [-1, 0, 1],\n",
    "    [0, 1, 0]\n",
    "])\n",
    "\n",
    "filtered_img_4 = convolve_with_stride(img, filter_4, stride=1)\n",
    "filtered_img_5 = convolve_with_stride(img, filter_4, stride=2)\n",
    "\n",
    "plt.figure(figsize=(18, 18))\n",
    "plt.subplot(1, 2, 1)\n",
    "plt.title(\"Stride = 1\")\n",
    "plt.imshow(filtered_img_4, cmap=\"gray\")\n",
    "plt.subplot(1, 2, 2)\n",
    "plt.title(\"Stride = 2\")\n",
    "plt.imshow(filtered_img_5, cmap=\"gray\")\n",
    "plt.tight_layout()\n",
    "plt.show()"
   ]
  },
  {
   "cell_type": "markdown",
   "metadata": {},
   "source": [
    "### Max Pooling"
   ]
  },
  {
   "cell_type": "code",
   "execution_count": null,
   "metadata": {},
   "outputs": [],
   "source": [
    "def max_pool(img, pool_size=4, stride=2):\n",
    "    img_height, img_width = img.shape\n",
    "    print(f\"Image height: {img_height}, width: {img_width}\")\n",
    "\n",
    "    target_img_height = math.floor((img_height - pool_size) / stride) + 1\n",
    "    target_img_width = math.floor((img_width - pool_size) / stride) + 1\n",
    "    print(\n",
    "        f\"Target image height: {target_img_height}, width: {target_img_width}\")\n",
    "\n",
    "    pooled_img = np.zeros((target_img_height, target_img_width))\n",
    "\n",
    "    for i in range(target_img_height):\n",
    "        for j in range(target_img_width):\n",
    "            img_subset = img[i*stride: i*stride + pool_size, j*stride: j*stride+pool_size]\n",
    "            pooled_img[i, j] = np.max(img_subset)\n",
    "    \n",
    "    return pooled_img"
   ]
  },
  {
   "cell_type": "code",
   "execution_count": null,
   "metadata": {},
   "outputs": [],
   "source": [
    "max_pooled_img = max_pool(img, pool_size=4, stride=4)\n",
    "\n",
    "plt.figure(figsize=(18, 18))\n",
    "plt.subplot(1, 2, 1)\n",
    "plt.title(\"Original\")\n",
    "plt.imshow(img, cmap=\"gray\")\n",
    "plt.subplot(1, 2, 2)\n",
    "plt.title(\"Max Pooled Image\")\n",
    "plt.imshow(max_pooled_img, cmap=\"gray\")\n",
    "plt.tight_layout()\n",
    "plt.show()"
   ]
  },
  {
   "cell_type": "code",
   "execution_count": null,
   "metadata": {},
   "outputs": [],
   "source": [
    "def avg_pool(img, pool_size=4, stride=2):\n",
    "    img_height, img_width = img.shape\n",
    "    print(f\"Image height: {img_height}, width: {img_width}\")\n",
    "\n",
    "    target_img_height = math.floor((img_height - pool_size) / stride) + 1\n",
    "    target_img_width = math.floor((img_width - pool_size) / stride) + 1\n",
    "    print(\n",
    "        f\"Target image height: {target_img_height}, width: {target_img_width}\")\n",
    "\n",
    "    pooled_img = np.zeros((target_img_height, target_img_width))\n",
    "\n",
    "    for i in range(target_img_height):\n",
    "        for j in range(target_img_width):\n",
    "            img_subset = img[i*stride: i*stride + pool_size, j*stride: j*stride+pool_size]\n",
    "            pooled_img[i, j] = np.average(img_subset)\n",
    "    \n",
    "    return pooled_img"
   ]
  },
  {
   "cell_type": "code",
   "execution_count": null,
   "metadata": {},
   "outputs": [],
   "source": [
    "avg_pooled_img = avg_pool(img, pool_size=4, stride=4)\n",
    "\n",
    "plt.figure(figsize=(18, 18))\n",
    "plt.subplot(1, 2, 1)\n",
    "plt.title(\"Original\")\n",
    "plt.imshow(img, cmap=\"gray\")\n",
    "plt.subplot(1, 2, 2)\n",
    "plt.title(\"Average Pooled Image\")\n",
    "plt.imshow(avg_pooled_img, cmap=\"gray\")\n",
    "plt.tight_layout()\n",
    "plt.show()"
   ]
  }
 ],
 "metadata": {
  "interpreter": {
   "hash": "b25c72524e0bc61a78b3d6a2df84de3adaea47dfccaeebc487f09611983c18d9"
  },
  "kernelspec": {
   "display_name": "Python 3.8.10 ('mlp')",
   "language": "python",
   "name": "python3"
  },
  "language_info": {
   "codemirror_mode": {
    "name": "ipython",
    "version": 3
   },
   "file_extension": ".py",
   "mimetype": "text/x-python",
   "name": "python",
   "nbconvert_exporter": "python",
   "pygments_lexer": "ipython3",
   "version": "3.8.10"
  },
  "orig_nbformat": 4
 },
 "nbformat": 4,
 "nbformat_minor": 2
}
