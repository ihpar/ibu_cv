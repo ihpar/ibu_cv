{
 "cells": [
  {
   "cell_type": "markdown",
   "metadata": {},
   "source": [
    "!wget https://github.com/ihpar/ibu_cv/raw/main/cif_10/dataset.zip\n",
    "\n",
    "!unzip /content/dataset.zip -d cif_10"
   ]
  },
  {
   "cell_type": "code",
   "execution_count": null,
   "metadata": {},
   "outputs": [],
   "source": [
    "import numpy as np\n",
    "import matplotlib.pyplot as plt\n",
    "import pickle\n",
    "import sys\n",
    "from collections import Counter"
   ]
  },
  {
   "cell_type": "code",
   "execution_count": null,
   "metadata": {},
   "outputs": [],
   "source": [
    "# google colab klasör yolu\n",
    "CIF_10_KLASORU = \"/content/cif_10/\""
   ]
  },
  {
   "cell_type": "code",
   "execution_count": null,
   "metadata": {},
   "outputs": [],
   "source": [
    "def dosya_oku(dosya_yolu):\n",
    "    with open(dosya_yolu, \"rb\") as dosya:\n",
    "        return pickle.load(dosya, encoding=\"bytes\")"
   ]
  },
  {
   "cell_type": "code",
   "execution_count": null,
   "metadata": {},
   "outputs": [],
   "source": [
    "data_batch_1 = dosya_oku(CIF_10_KLASORU + \"data_batch_1\")\n",
    "batches_meta = dosya_oku(CIF_10_KLASORU + \"batches.meta\")\n",
    "\n",
    "print(data_batch_1.keys())\n",
    "print(batches_meta.keys())"
   ]
  },
  {
   "cell_type": "code",
   "execution_count": null,
   "metadata": {},
   "outputs": [],
   "source": [
    "tum_resimler = data_batch_1[b\"data\"]\n",
    "tum_resimler.shape"
   ]
  },
  {
   "cell_type": "code",
   "execution_count": null,
   "metadata": {},
   "outputs": [],
   "source": [
    "ilk_resim = tum_resimler[0]\n",
    "ilk_resim.shape"
   ]
  },
  {
   "cell_type": "code",
   "execution_count": null,
   "metadata": {},
   "outputs": [],
   "source": [
    "def resmi_donustur(resim):\n",
    "    resim = resim.reshape(3, 32, 32)\n",
    "    resim = resim.transpose(1, 2, 0)\n",
    "    return resim"
   ]
  },
  {
   "cell_type": "code",
   "execution_count": null,
   "metadata": {},
   "outputs": [],
   "source": [
    "ilk_resim = resmi_donustur(ilk_resim)"
   ]
  },
  {
   "cell_type": "code",
   "execution_count": null,
   "metadata": {},
   "outputs": [],
   "source": [
    "plt.imshow(ilk_resim)"
   ]
  },
  {
   "cell_type": "code",
   "execution_count": null,
   "metadata": {},
   "outputs": [],
   "source": [
    "print(batches_meta[b\"label_names\"])\n",
    "print(data_batch_1[b\"labels\"][:15])"
   ]
  },
  {
   "cell_type": "code",
   "execution_count": null,
   "metadata": {},
   "outputs": [],
   "source": [
    "def resmin_sinif_ismi(resim_index):\n",
    "    sinif_sayisi = data_batch_1[b\"labels\"][resim_index]\n",
    "    sinif_ismi = batches_meta[b\"label_names\"][sinif_sayisi]\n",
    "    return sinif_ismi.decode(\"ascii\")"
   ]
  },
  {
   "cell_type": "code",
   "execution_count": null,
   "metadata": {},
   "outputs": [],
   "source": [
    "print(resmin_sinif_ismi(0))"
   ]
  },
  {
   "cell_type": "code",
   "execution_count": null,
   "metadata": {},
   "outputs": [],
   "source": [
    "plt.figure(figsize=(8, 8))\n",
    "\n",
    "for i in range(16):\n",
    "    plt.subplot(4, 4, i+1)\n",
    "    plt.title(resmin_sinif_ismi(i))\n",
    "    plt.imshow(resmi_donustur(tum_resimler[i]))\n",
    "\n",
    "plt.tight_layout()\n",
    "plt.show()"
   ]
  },
  {
   "cell_type": "code",
   "execution_count": null,
   "metadata": {},
   "outputs": [],
   "source": [
    "def l1_distance(resim_1, resim_2):\n",
    "    fark = np.abs(resim_1.astype(int) - resim_2.astype(int))\n",
    "    toplam_fark = np.sum(fark)\n",
    "    return toplam_fark"
   ]
  },
  {
   "cell_type": "code",
   "execution_count": null,
   "metadata": {},
   "outputs": [],
   "source": [
    "def en_yakin_komsu_l1(resim_indeksi):\n",
    "    aranan_resim = tum_resimler[resim_indeksi]\n",
    "    min_fark = sys.maxsize\n",
    "    en_yakin_resim = None\n",
    "\n",
    "    for i, resim in enumerate(tum_resimler):\n",
    "        if i == resim_indeksi:\n",
    "            continue\n",
    "\n",
    "        fark = l1_distance(aranan_resim, resim)\n",
    "        if fark < min_fark:\n",
    "            min_fark = fark\n",
    "            en_yakin_resim = i\n",
    "    \n",
    "    return en_yakin_resim"
   ]
  },
  {
   "cell_type": "code",
   "execution_count": null,
   "metadata": {},
   "outputs": [],
   "source": [
    "resim_0_en_yakini = en_yakin_komsu_l1(0)\n",
    "print(resim_0_en_yakini)"
   ]
  },
  {
   "cell_type": "code",
   "execution_count": null,
   "metadata": {},
   "outputs": [],
   "source": [
    "plt.title(resmin_sinif_ismi(resim_0_en_yakini))\n",
    "plt.imshow(resmi_donustur(tum_resimler[resim_0_en_yakini]))"
   ]
  },
  {
   "cell_type": "code",
   "execution_count": null,
   "metadata": {},
   "outputs": [],
   "source": [
    "plt.figure(figsize=(8, 16))\n",
    "\n",
    "for i in range(0, 8):\n",
    "    plt.subplot(8, 2, i*2+1)\n",
    "    plt.title(resmin_sinif_ismi(i))\n",
    "    plt.imshow(resmi_donustur(tum_resimler[i]))\n",
    "\n",
    "    en_yakin_resim = en_yakin_komsu_l1(i)\n",
    "    plt.subplot(8, 2, i*2+2)\n",
    "    plt.title(resmin_sinif_ismi(en_yakin_resim))\n",
    "    plt.imshow(resmi_donustur(tum_resimler[en_yakin_resim]))\n",
    "\n",
    "plt.tight_layout()\n",
    "plt.show()"
   ]
  },
  {
   "cell_type": "code",
   "execution_count": null,
   "metadata": {},
   "outputs": [],
   "source": [
    "def l2_distance(resim_1, resim_2):\n",
    "    # fark_kare = np.square(resim_1.astype(int) - resim_2.astype(int))\n",
    "    # fark = np.sqrt(np.sum(fark_kare))\n",
    "    fark = np.linalg.norm(resim_1.astype(int) - resim_2.astype(int))\n",
    "    return fark"
   ]
  },
  {
   "cell_type": "code",
   "execution_count": null,
   "metadata": {},
   "outputs": [],
   "source": [
    "def en_yakin_komsu_l2(resim_indeksi):\n",
    "    aranan_resim = tum_resimler[resim_indeksi]\n",
    "    min_fark = sys.maxsize\n",
    "    en_yakin_resim = None\n",
    "\n",
    "    for i, resim in enumerate(tum_resimler):\n",
    "        if i == resim_indeksi:\n",
    "            continue\n",
    "\n",
    "        fark = l2_distance(aranan_resim, resim)\n",
    "        if fark < min_fark:\n",
    "            min_fark = fark\n",
    "            en_yakin_resim = i\n",
    "    \n",
    "    return en_yakin_resim"
   ]
  },
  {
   "cell_type": "code",
   "execution_count": null,
   "metadata": {},
   "outputs": [],
   "source": [
    "plt.figure(figsize=(8, 16))\n",
    "\n",
    "for i in range(0, 8):\n",
    "    plt.subplot(8, 2, i*2+1)\n",
    "    plt.title(resmin_sinif_ismi(i))\n",
    "    plt.imshow(resmi_donustur(tum_resimler[i]))\n",
    "\n",
    "    en_yakin_resim = en_yakin_komsu_l2(i)\n",
    "    plt.subplot(8, 2, i*2+2)\n",
    "    plt.title(resmin_sinif_ismi(en_yakin_resim))\n",
    "    plt.imshow(resmi_donustur(tum_resimler[en_yakin_resim]))\n",
    "\n",
    "plt.tight_layout()\n",
    "plt.show()"
   ]
  },
  {
   "cell_type": "code",
   "execution_count": null,
   "metadata": {},
   "outputs": [],
   "source": [
    "def k_en_yakin_komsu(resim_indeksi, k):\n",
    "    aranan_resim = tum_resimler[resim_indeksi]\n",
    "    farklar = []\n",
    "\n",
    "    for resim in tum_resimler:\n",
    "        fark = l1_distance(aranan_resim, resim)\n",
    "        farklar.append(fark)\n",
    "\n",
    "    komsu_indeksleri = np.argsort(farklar)\n",
    "    k_komsu_indeksleri = komsu_indeksleri[0:k]\n",
    "    k_komsu_siniflari = [resmin_sinif_ismi(k) for k in k_komsu_indeksleri]\n",
    "    cogunluk_oyu = Counter(k_komsu_siniflari).most_common(1)[0][0]\n",
    "\n",
    "    return k_komsu_indeksleri, cogunluk_oyu\n"
   ]
  },
  {
   "cell_type": "code",
   "execution_count": null,
   "metadata": {},
   "outputs": [],
   "source": [
    "resim = 0\n",
    "k = 5\n",
    "indeksler, sinif = k_en_yakin_komsu(resim, k)\n",
    "\n",
    "print(f\"En yakın resimlerin indeksleri: {indeksler}\")\n",
    "print(f\"{k}-NN tahmini: {sinif}\")\n",
    "\n",
    "plt.figure(figsize=(12, 12))\n",
    "\n",
    "plt.subplot(1, k+1, 1)\n",
    "plt.title(resmin_sinif_ismi(resim))\n",
    "plt.imshow(resmi_donustur(tum_resimler[resim]))\n",
    "\n",
    "for i, resim_indeksi in enumerate(indeksler):\n",
    "    plt.subplot(1, k+1, i+2)\n",
    "    plt.title(resmin_sinif_ismi(resim_indeksi))\n",
    "    plt.imshow(resmi_donustur(tum_resimler[resim_indeksi]))\n",
    "\n",
    "plt.tight_layout()\n",
    "plt.show()"
   ]
  },
  {
   "cell_type": "code",
   "execution_count": null,
   "metadata": {},
   "outputs": [],
   "source": []
  }
 ],
 "metadata": {
  "interpreter": {
   "hash": "b25c72524e0bc61a78b3d6a2df84de3adaea47dfccaeebc487f09611983c18d9"
  },
  "kernelspec": {
   "display_name": "Python 3.8.10 ('mlp')",
   "language": "python",
   "name": "python3"
  },
  "language_info": {
   "codemirror_mode": {
    "name": "ipython",
    "version": 3
   },
   "file_extension": ".py",
   "mimetype": "text/x-python",
   "name": "python",
   "nbconvert_exporter": "python",
   "pygments_lexer": "ipython3",
   "version": "3.8.10"
  },
  "orig_nbformat": 4
 },
 "nbformat": 4,
 "nbformat_minor": 2
}
