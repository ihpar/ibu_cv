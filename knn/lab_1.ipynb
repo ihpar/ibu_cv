{
 "cells": [
  {
   "cell_type": "markdown",
   "metadata": {},
   "source": [
    "!wget https://github.com/ihpar/ibu_cv/raw/main/cif_10/dataset.zip\n",
    "\n",
    "!unzip /content/dataset.zip -d cif_10\n"
   ]
  },
  {
   "cell_type": "code",
   "execution_count": null,
   "metadata": {},
   "outputs": [],
   "source": [
    "import numpy as np\n",
    "import matplotlib.pyplot as plt\n",
    "import pickle\n",
    "from PIL import Image\n",
    "import sys\n",
    "from collections import Counter"
   ]
  },
  {
   "cell_type": "code",
   "execution_count": null,
   "metadata": {},
   "outputs": [],
   "source": [
    "# google colab klasör yolu\n",
    "# CIF_10_KLASORU = \"/content/cif_10/\"\n",
    "\n",
    "# lokal yol\n",
    "CIF_10_KLASORU = \"dataset/\""
   ]
  },
  {
   "cell_type": "code",
   "execution_count": null,
   "metadata": {},
   "outputs": [],
   "source": [
    "def dosya_oku(dosya_yolu):\n",
    "    with open(dosya_yolu, \"rb\") as dosya:\n",
    "        return pickle.load(dosya, encoding=\"bytes\")"
   ]
  },
  {
   "cell_type": "code",
   "execution_count": null,
   "metadata": {},
   "outputs": [],
   "source": [
    "data_batch_1 = dosya_oku(CIF_10_KLASORU + \"data_batch_1\")\n",
    "batches_meta = dosya_oku(CIF_10_KLASORU + \"batches.meta\")\n",
    "\n",
    "print(data_batch_1.keys())\n",
    "print(batches_meta.keys())"
   ]
  },
  {
   "cell_type": "code",
   "execution_count": null,
   "metadata": {},
   "outputs": [],
   "source": [
    "tum_resimler = data_batch_1[b\"data\"]\n",
    "tum_resimler.shape"
   ]
  },
  {
   "cell_type": "code",
   "execution_count": null,
   "metadata": {},
   "outputs": [],
   "source": [
    "ilk_resim = tum_resimler[0]\n",
    "ilk_resim.shape"
   ]
  },
  {
   "cell_type": "code",
   "execution_count": null,
   "metadata": {},
   "outputs": [],
   "source": [
    "def resmi_donustur(resim):\n",
    "    resim = resim.reshape(3, 32, 32)\n",
    "    resim = resim.transpose(1, 2, 0)\n",
    "    return resim"
   ]
  },
  {
   "cell_type": "code",
   "execution_count": null,
   "metadata": {},
   "outputs": [],
   "source": [
    "ilk_resim = resmi_donustur(ilk_resim)"
   ]
  },
  {
   "cell_type": "code",
   "execution_count": null,
   "metadata": {},
   "outputs": [],
   "source": [
    "ilk_resim.shape"
   ]
  },
  {
   "cell_type": "code",
   "execution_count": null,
   "metadata": {},
   "outputs": [],
   "source": [
    "plt.imshow(ilk_resim)\n",
    "plt.show()"
   ]
  },
  {
   "cell_type": "code",
   "execution_count": null,
   "metadata": {},
   "outputs": [],
   "source": [
    "print(batches_meta[b\"label_names\"])\n",
    "print(data_batch_1[b\"labels\"][:15])"
   ]
  },
  {
   "cell_type": "code",
   "execution_count": null,
   "metadata": {},
   "outputs": [],
   "source": [
    "def resmin_sinif_ismi(resim_index):\n",
    "    sinif_sayisi = data_batch_1[b\"labels\"][resim_index]\n",
    "    sinif_ismi = batches_meta[b\"label_names\"][sinif_sayisi]\n",
    "    return sinif_ismi.decode(\"ascii\")"
   ]
  },
  {
   "cell_type": "code",
   "execution_count": null,
   "metadata": {},
   "outputs": [],
   "source": [
    "print(resmin_sinif_ismi(0))"
   ]
  },
  {
   "cell_type": "code",
   "execution_count": null,
   "metadata": {},
   "outputs": [],
   "source": [
    "plt.figure(figsize=(8, 8))\n",
    "\n",
    "for i in range(16):\n",
    "    plt.subplot(4, 4, i+1)\n",
    "    plt.title(resmin_sinif_ismi(i))\n",
    "    plt.imshow(resmi_donustur(tum_resimler[i]))\n",
    "\n",
    "plt.tight_layout()\n",
    "plt.show()"
   ]
  },
  {
   "cell_type": "code",
   "execution_count": null,
   "metadata": {},
   "outputs": [],
   "source": [
    "tum_resimler[0][:10]"
   ]
  },
  {
   "cell_type": "code",
   "execution_count": null,
   "metadata": {},
   "outputs": [],
   "source": [
    "def l1_distance(resim_1, resim_2):\n",
    "    fark = np.abs(resim_1.astype(int) - resim_2.astype(int))\n",
    "    toplam_fark = np.sum(fark)\n",
    "    return toplam_fark"
   ]
  },
  {
   "cell_type": "code",
   "execution_count": null,
   "metadata": {},
   "outputs": [],
   "source": [
    "sys.maxsize"
   ]
  },
  {
   "cell_type": "code",
   "execution_count": null,
   "metadata": {},
   "outputs": [],
   "source": [
    "def en_yakin_komsu_l1(resim_indeksi):\n",
    "    aranan_resim = tum_resimler[resim_indeksi]\n",
    "    min_fark = sys.maxsize\n",
    "    en_yakin_resim = None\n",
    "\n",
    "    for i, resim in enumerate(tum_resimler):\n",
    "        if i == resim_indeksi:\n",
    "            continue\n",
    "\n",
    "        fark = l1_distance(aranan_resim, resim)\n",
    "        if fark < min_fark:\n",
    "            min_fark = fark\n",
    "            en_yakin_resim = i\n",
    "\n",
    "    return en_yakin_resim"
   ]
  },
  {
   "cell_type": "code",
   "execution_count": null,
   "metadata": {},
   "outputs": [],
   "source": [
    "resim_0_en_yakini = en_yakin_komsu_l1(0)\n",
    "print(resim_0_en_yakini)"
   ]
  },
  {
   "cell_type": "code",
   "execution_count": null,
   "metadata": {},
   "outputs": [],
   "source": [
    "plt.title(resmin_sinif_ismi(resim_0_en_yakini))\n",
    "plt.imshow(resmi_donustur(tum_resimler[resim_0_en_yakini]))\n",
    "plt.show()"
   ]
  },
  {
   "cell_type": "code",
   "execution_count": null,
   "metadata": {},
   "outputs": [],
   "source": [
    "plt.figure(figsize=(8, 16))\n",
    "\n",
    "for i in range(0, 8):\n",
    "    plt.subplot(8, 2, i*2+1)\n",
    "    plt.title(resmin_sinif_ismi(i))\n",
    "    plt.imshow(resmi_donustur(tum_resimler[i]))\n",
    "\n",
    "    en_yakin_resim = en_yakin_komsu_l1(i)\n",
    "    plt.subplot(8, 2, i*2+2)\n",
    "    plt.title(resmin_sinif_ismi(en_yakin_resim))\n",
    "    plt.imshow(resmi_donustur(tum_resimler[en_yakin_resim]))\n",
    "\n",
    "plt.tight_layout()\n",
    "plt.show()"
   ]
  },
  {
   "cell_type": "code",
   "execution_count": null,
   "metadata": {},
   "outputs": [],
   "source": [
    "def l2_distance(resim_1, resim_2):\n",
    "    # fark_kare = np.square(resim_1.astype(int) - resim_2.astype(int))\n",
    "    # fark = np.sqrt(np.sum(fark_kare))\n",
    "    fark = np.linalg.norm(resim_1.astype(int) - resim_2.astype(int))\n",
    "    return fark"
   ]
  },
  {
   "cell_type": "code",
   "execution_count": null,
   "metadata": {},
   "outputs": [],
   "source": [
    "def en_yakin_komsu_l2(resim_indeksi):\n",
    "    aranan_resim = tum_resimler[resim_indeksi]\n",
    "    min_fark = sys.maxsize\n",
    "    en_yakin_resim = None\n",
    "\n",
    "    for i, resim in enumerate(tum_resimler):\n",
    "        if i == resim_indeksi:\n",
    "            continue\n",
    "\n",
    "        fark = l2_distance(aranan_resim, resim)\n",
    "        if fark < min_fark:\n",
    "            min_fark = fark\n",
    "            en_yakin_resim = i\n",
    "\n",
    "    return en_yakin_resim"
   ]
  },
  {
   "cell_type": "code",
   "execution_count": null,
   "metadata": {},
   "outputs": [],
   "source": [
    "plt.figure(figsize=(8, 16))\n",
    "\n",
    "for i in range(0, 8):\n",
    "    plt.subplot(8, 2, i*2+1)\n",
    "    plt.title(resmin_sinif_ismi(i))\n",
    "    plt.imshow(resmi_donustur(tum_resimler[i]))\n",
    "\n",
    "    en_yakin_resim = en_yakin_komsu_l2(i)\n",
    "    plt.subplot(8, 2, i*2+2)\n",
    "    plt.title(resmin_sinif_ismi(en_yakin_resim))\n",
    "    plt.imshow(resmi_donustur(tum_resimler[en_yakin_resim]))\n",
    "\n",
    "plt.tight_layout()\n",
    "plt.show()"
   ]
  },
  {
   "cell_type": "code",
   "execution_count": null,
   "metadata": {},
   "outputs": [],
   "source": [
    "def k_en_yakin_komsu(resim_indeksi, k):\n",
    "    aranan_resim = tum_resimler[resim_indeksi]\n",
    "    farklar = []\n",
    "\n",
    "    for i, resim in enumerate(tum_resimler):\n",
    "        if i == resim_indeksi:\n",
    "            continue\n",
    "        fark = l1_distance(aranan_resim, resim)\n",
    "        farklar.append(fark)\n",
    "\n",
    "    komsu_indeksleri = np.argsort(farklar)\n",
    "    k_komsu_indeksleri = komsu_indeksleri[0:k]\n",
    "    k_komsu_siniflari = [resmin_sinif_ismi(k) for k in k_komsu_indeksleri]\n",
    "    cogunluk_oyu = Counter(k_komsu_siniflari).most_common(1)[0][0]\n",
    "\n",
    "    return k_komsu_indeksleri, cogunluk_oyu"
   ]
  },
  {
   "cell_type": "code",
   "execution_count": null,
   "metadata": {},
   "outputs": [],
   "source": [
    "def plot_KNN(sorgu_resim_idx, k=3):\n",
    "    indeksler, sinif = k_en_yakin_komsu(sorgu_resim_idx, k)\n",
    "\n",
    "    print(f\"En yakın resimlerin indeksleri: {indeksler}\")\n",
    "    print(f\"{k}-NN tahmini: {sinif}\")\n",
    "\n",
    "    plt.figure(figsize=(12, 12))\n",
    "\n",
    "    plt.subplot(1, k+1, 1)\n",
    "    plt.title(\"Sorgu: \" + resmin_sinif_ismi(sorgu_resim_idx))\n",
    "    plt.imshow(resmi_donustur(tum_resimler[sorgu_resim_idx]))\n",
    "\n",
    "    for i, resim_indeksi in enumerate(indeksler):\n",
    "        plt.subplot(1, k+1, i+2)\n",
    "        plt.title(resmin_sinif_ismi(resim_indeksi))\n",
    "        plt.imshow(resmi_donustur(tum_resimler[resim_indeksi]))\n",
    "\n",
    "    plt.tight_layout()\n",
    "    plt.show()"
   ]
  },
  {
   "cell_type": "code",
   "execution_count": null,
   "metadata": {},
   "outputs": [],
   "source": [
    "plot_KNN(7, 3)"
   ]
  },
  {
   "cell_type": "code",
   "execution_count": null,
   "metadata": {},
   "outputs": [],
   "source": [
    "test_resim = tum_resimler[5]"
   ]
  },
  {
   "cell_type": "code",
   "execution_count": null,
   "metadata": {},
   "outputs": [],
   "source": [
    "test_resim.shape"
   ]
  },
  {
   "cell_type": "code",
   "execution_count": null,
   "metadata": {},
   "outputs": [],
   "source": [
    "test_resim_color = test_resim.reshape(3, 32, 32).transpose(1, 2, 0)\n",
    "plt.imshow(test_resim_color)\n",
    "plt.show()"
   ]
  },
  {
   "cell_type": "code",
   "execution_count": null,
   "metadata": {},
   "outputs": [],
   "source": [
    "test_resim_gray = Image.fromarray(test_resim_color).convert(\"L\")\n",
    "test_resim_gray_np = np.array(test_resim_gray)\n",
    "test_resim_gray_np.shape"
   ]
  },
  {
   "cell_type": "code",
   "execution_count": null,
   "metadata": {},
   "outputs": [],
   "source": [
    "test_resim_gray_np_flat = test_resim_gray_np.reshape(32*32)\n",
    "print(test_resim_gray_np_flat.shape)\n",
    "print(test_resim_gray_np_flat[:10])\n",
    "print(np.min(test_resim_gray_np_flat), np.max(test_resim_gray_np_flat))"
   ]
  },
  {
   "cell_type": "code",
   "execution_count": null,
   "metadata": {},
   "outputs": [],
   "source": [
    "plt.imshow(test_resim_gray_np, cmap=\"gray\", vmin=0, vmax=255)\n",
    "plt.show()"
   ]
  },
  {
   "cell_type": "code",
   "execution_count": null,
   "metadata": {},
   "outputs": [],
   "source": [
    "cogunluk_oyu = Counter([1, 4, 3, 3, 4, 4, 3, 1, 3, 3]).most_common(1)[0][0]\n",
    "print(cogunluk_oyu)"
   ]
  },
  {
   "cell_type": "code",
   "execution_count": null,
   "metadata": {},
   "outputs": [],
   "source": [
    "class KNN:\n",
    "    def __init__(self):\n",
    "        self.images = None\n",
    "        self.images_color = []\n",
    "        self.images_grayscale = []\n",
    "        self.images_grayscale_flat = []\n",
    "        self.labels = None\n",
    "        self.label_names = []\n",
    "\n",
    "    def l1_distance(self, img_1, img_2):\n",
    "        return np.sum(np.abs(img_1.astype(int) - img_2.astype(int)))\n",
    "\n",
    "    def l2_distance(self, img_1, img_2):\n",
    "        return np.linalg.norm(img_1.astype(int) - img_2.astype(int))\n",
    "\n",
    "    def train(self, images, labels, label_names):\n",
    "        self.images = images\n",
    "\n",
    "        for img in self.images:\n",
    "            color_img = img.reshape(3, 32, 32).transpose(1, 2, 0)\n",
    "            self.images_color.append(color_img)\n",
    "\n",
    "            gray_img = Image.fromarray(color_img).convert(\"L\")\n",
    "            self.images_grayscale.append(gray_img)\n",
    "            self.images_grayscale_flat.append(\n",
    "                np.array(gray_img).reshape(32*32))\n",
    "\n",
    "        self.images_color = np.array(self.images_color)\n",
    "        self.images_grayscale = np.array(self.images_grayscale)\n",
    "        self.images_grayscale_flat = np.array(self.images_grayscale_flat)\n",
    "\n",
    "        self.labels = labels\n",
    "        for label_name in label_names:\n",
    "            self.label_names.append(label_name.decode(\"ascii\"))\n",
    "\n",
    "    def predict(self, query_img_idx, distance_fun=\"L1\", k=3, grayscale=False):\n",
    "        dataset = self.images\n",
    "        if grayscale:\n",
    "            dataset = self.images_grayscale_flat\n",
    "\n",
    "        distance_finder = self.l1_distance\n",
    "        if distance_fun == \"L2\":\n",
    "            distance_finder = self.l2_distance\n",
    "\n",
    "        distances = []\n",
    "        for i, img in enumerate(dataset):\n",
    "            if i == query_img_idx:\n",
    "                continue\n",
    "            distances.append(distance_finder(dataset[query_img_idx], img))\n",
    "\n",
    "        nn_indexes = np.argsort(distances)[:k]\n",
    "        nn_labels = []\n",
    "        for idx in nn_indexes:\n",
    "            nn_labels.append(self.labels[idx])\n",
    "\n",
    "        prediction_class = Counter(nn_labels).most_common(1)[0][0]\n",
    "        prediction_label = self.label_names[prediction_class]\n",
    "        return prediction_label, nn_indexes\n",
    "\n",
    "    def plot_prediction(self, query_idx, nn_indexes, gray=False):\n",
    "        dataset = self.images_color\n",
    "        if gray:\n",
    "            dataset = self.images_grayscale\n",
    "        num_nn = len(nn_indexes)\n",
    "        plt.figure(figsize=(12, 12))\n",
    "\n",
    "        plt.subplot(1, num_nn+1, 1)\n",
    "        plt.title(\"Sorgu: \" + self.label_names[self.labels[query_idx]])\n",
    "        if gray:\n",
    "            plt.imshow(dataset[query_idx], cmap=\"gray\", vmin=0, vmax=255)\n",
    "        else:\n",
    "            plt.imshow(dataset[query_idx])\n",
    "\n",
    "        for i, idx in enumerate(nn_indexes):\n",
    "            plt.subplot(1, num_nn+1, i+2)\n",
    "            plt.title(self.label_names[self.labels[idx]])\n",
    "            if gray:\n",
    "                plt.imshow(dataset[idx], cmap=\"gray\", vmin=0, vmax=255)\n",
    "            else:\n",
    "                plt.imshow(dataset[idx])\n",
    "\n",
    "        plt.tight_layout()\n",
    "        plt.show()\n",
    "\n",
    "    def accuracy(self, k=3):\n",
    "        prediction_results = []\n",
    "        for i, img_i in enumerate(self.images):\n",
    "            if (i + 1) % 250 == 0:\n",
    "                print(f\"At idx: {i+1}\")\n",
    "\n",
    "            if i == 1000:\n",
    "                break\n",
    "\n",
    "            distances = []\n",
    "\n",
    "            for j, img_j in enumerate(self.images):\n",
    "                if i == j:\n",
    "                    continue\n",
    "                distances.append(self.l1_distance(img_i, img_j))\n",
    "\n",
    "            nn_indexes = np.argsort(distances)[:k]\n",
    "            nn_classes = [self.labels[x] for x in nn_indexes]\n",
    "            prediction = Counter(nn_classes).most_common(1)[0][0]\n",
    "            if prediction == self.labels[i]:\n",
    "                prediction_results.append(1)\n",
    "            else:\n",
    "                prediction_results.append(0)\n",
    "\n",
    "        prediction_results = np.array(prediction_results)\n",
    "        return prediction_results"
   ]
  },
  {
   "cell_type": "code",
   "execution_count": null,
   "metadata": {},
   "outputs": [],
   "source": [
    "knn = KNN()\n",
    "knn.train(data_batch_1[b\"data\"],\n",
    "          data_batch_1[b\"labels\"],\n",
    "          batches_meta[b\"label_names\"])"
   ]
  },
  {
   "cell_type": "code",
   "execution_count": null,
   "metadata": {},
   "outputs": [],
   "source": [
    "print(knn.images.shape)\n",
    "print(knn.images_color.shape)\n",
    "print(knn.images_grayscale.shape)\n",
    "print(knn.images_grayscale_flat.shape)"
   ]
  },
  {
   "cell_type": "code",
   "execution_count": null,
   "metadata": {},
   "outputs": [],
   "source": [
    "knn.labels[:5]"
   ]
  },
  {
   "cell_type": "code",
   "execution_count": null,
   "metadata": {},
   "outputs": [],
   "source": [
    "knn.label_names"
   ]
  },
  {
   "cell_type": "code",
   "execution_count": null,
   "metadata": {},
   "outputs": [],
   "source": [
    "prediction_label, nn = knn.predict(7, distance_fun=\"L1\", k=5, grayscale=False)"
   ]
  },
  {
   "cell_type": "code",
   "execution_count": null,
   "metadata": {},
   "outputs": [],
   "source": [
    "prediction_label"
   ]
  },
  {
   "cell_type": "code",
   "execution_count": null,
   "metadata": {},
   "outputs": [],
   "source": [
    "nn"
   ]
  },
  {
   "cell_type": "code",
   "execution_count": null,
   "metadata": {},
   "outputs": [],
   "source": [
    "knn.plot_prediction(7, nn, gray=False)"
   ]
  },
  {
   "cell_type": "code",
   "execution_count": null,
   "metadata": {},
   "outputs": [],
   "source": [
    "prediction_results = knn.accuracy(k=3)"
   ]
  },
  {
   "cell_type": "code",
   "execution_count": 187,
   "metadata": {},
   "outputs": [
    {
     "data": {
      "text/plain": [
       "array([0, 0, 0, 0, 0, 0, 0, 1, 0, 0, 0, 0, 0, 0, 0, 0, 0, 0, 0, 0, 0, 0,\n",
       "       0, 0, 0, 0, 0, 0, 0, 0, 0, 1, 0, 0, 0, 0, 0, 0, 0, 0])"
      ]
     },
     "execution_count": 187,
     "metadata": {},
     "output_type": "execute_result"
    }
   ],
   "source": [
    "prediction_results[:40]"
   ]
  },
  {
   "cell_type": "code",
   "execution_count": null,
   "metadata": {},
   "outputs": [],
   "source": [
    "np.mean(prediction_results)"
   ]
  }
 ],
 "metadata": {
  "interpreter": {
   "hash": "b25c72524e0bc61a78b3d6a2df84de3adaea47dfccaeebc487f09611983c18d9"
  },
  "kernelspec": {
   "display_name": "Python 3.8.10 ('mlp')",
   "language": "python",
   "name": "python3"
  },
  "language_info": {
   "codemirror_mode": {
    "name": "ipython",
    "version": 3
   },
   "file_extension": ".py",
   "mimetype": "text/x-python",
   "name": "python",
   "nbconvert_exporter": "python",
   "pygments_lexer": "ipython3",
   "version": "3.12.2"
  },
  "orig_nbformat": 4
 },
 "nbformat": 4,
 "nbformat_minor": 2
}
